{
 "cells": [
  {
   "cell_type": "markdown",
   "metadata": {},
   "source": [
    "Prediction of credit default\n",
    "\n",
    "This is an end to end machine learning project to predict credit default\n",
    "The note book will consider the following\n",
    "1. Data cleaning\n",
    "2. Data exploration EDA\n",
    "3. Prediction and model evaluation\n",
    "4. Model optimization"
   ]
  },
  {
   "cell_type": "code",
   "execution_count": 1,
   "metadata": {},
   "outputs": [],
   "source": [
    "# import libraries\n",
    "import pandas as pd\n",
    "import numpy as np \n",
    "import seaborn as sns\n",
    "import matplotlib.pyplot as plt\n",
    "# import pydot\n",
    "%matplotlib inline\n",
    "plt.style.use('seaborn-bright')\n",
    "\n",
    "import datetime as dt\n",
    "#machine learning\n",
    "\n",
    "from sklearn.ensemble import RandomForestRegressor\n",
    "from sklearn.model_selection import train_test_split\n",
    "from sklearn.metrics import mean_squared_error\n"
   ]
  },
  {
   "cell_type": "markdown",
   "metadata": {},
   "source": [
    "# Dataset is extremely large and current workspace doesn't allow to read all of it\n",
    "\n",
    "There are several columns that are not useful (at least for now) to predict defaulters. on the other hand there are columns to leak information about loans. \n",
    "\n",
    "irrelevant_or_leak_info = [\"id\", \"member_id\", \"funded_amnt\", \"funded_amnt_inv\", \"grade\", \"sub_grade\", \"emp_title\", \"issue_d\",\"zip_code\", \"out_prncp\", \"out_prncp_inv\", \"total_pymnt\", \"total_pymnt_inv\", \"total_rec_prncp\",\n",
    "          \"total_rec_int\", \"total_rec_late_fee\", \"recoveries\", \"collection_recovery_fee\", \"last_pymnt_d\", \"last_pymnt_amnt\"]\n",
    "          \n",
    "  or more specifically the columns need in order to load a large dataset into this notebook version due to computing power is the cols_to_use\n",
    "          \n",
    "Additionally might be easier to read in chunks"
   ]
  },
  {
   "cell_type": "code",
   "execution_count": null,
   "metadata": {},
   "outputs": [],
   "source": [
    "#Columns to read"
   ]
  },
  {
   "cell_type": "code",
   "execution_count": 24,
   "metadata": {},
   "outputs": [
    {
     "data": {
      "text/plain": [
       "20"
      ]
     },
     "execution_count": 24,
     "metadata": {},
     "output_type": "execute_result"
    }
   ],
   "source": [
    "cols_to_use =['loan_amnt',\n",
    " 'term',\n",
    " 'int_rate',\n",
    " 'installment',\n",
    " 'emp_length',\n",
    " 'home_ownership',\n",
    " 'annual_inc',\n",
    " 'verification_status',\n",
    " 'loan_status',\n",
    " 'pymnt_plan',\n",
    " 'purpose',\n",
    " 'title',\n",
    " 'addr_state',\n",
    " 'dti',\n",
    " 'delinq_2yrs',\n",
    " 'earliest_cr_line',\n",
    " 'inq_last_6mths',\n",
    " 'open_acc',\n",
    " 'pub_rec',\n",
    " 'revol_bal',\n",
    " 'revol_util',\n",
    " 'total_acc',\n",
    " 'initial_list_status',\n",
    " 'last_credit_pull_d',\n",
    " 'collections_12_mths_ex_med',\n",
    " 'policy_code',\n",
    " 'application_type',\n",
    " 'acc_now_delinq',\n",
    " 'chargeoff_within_12_mths',\n",
    " 'delinq_amnt',\n",
    " 'pub_rec_bankruptcies',\n",
    " 'tax_liens']\n",
    "\n",
    "# len([\"id\", \"member_id\", \"funded_amnt\", \"funded_amnt_inv\", \"grade\", \"sub_grade\", \"emp_title\", \"issue_d\",\"zip_code\", \"out_prncp\", \"out_prncp_inv\", \"total_pymnt\", \"total_pymnt_inv\", \"total_rec_prncp\",\n",
    "#          \"total_rec_int\", \"total_rec_late_fee\", \"recoveries\", \"collection_recovery_fee\", \"last_pymnt_d\", \"last_pymnt_amnt\"])\n"
   ]
  },
  {
   "cell_type": "code",
   "execution_count": 3,
   "metadata": {},
   "outputs": [],
   "source": [
    "credit_data = []\n",
    "for chunk in pd.read_csv('Modified_lending_data.csv', chunksize=25000, index_col=0):\n",
    "    credit_data.append(chunk)\n",
    "\n",
    "    ### To only read a set number of \n",
    "# credit_data.read_csv('Modified_lending_data.csv',  nrows =350000)"
   ]
  },
  {
   "cell_type": "code",
   "execution_count": 4,
   "metadata": {},
   "outputs": [
    {
     "data": {
      "text/plain": [
       "(816935, 52)"
      ]
     },
     "execution_count": 4,
     "metadata": {},
     "output_type": "execute_result"
    }
   ],
   "source": [
    "credit_data=pd.concat(credit_data)\n",
    "credit_data.shape"
   ]
  },
  {
   "cell_type": "code",
   "execution_count": 8,
   "metadata": {},
   "outputs": [
    {
     "name": "stdout",
     "output_type": "stream",
     "text": [
      "Rows:  816935  Number of columns:  52 \n",
      "\n"
     ]
    },
    {
     "data": {
      "text/html": [
       "<div>\n",
       "<style scoped>\n",
       "    .dataframe tbody tr th:only-of-type {\n",
       "        vertical-align: middle;\n",
       "    }\n",
       "\n",
       "    .dataframe tbody tr th {\n",
       "        vertical-align: top;\n",
       "    }\n",
       "\n",
       "    .dataframe thead th {\n",
       "        text-align: right;\n",
       "    }\n",
       "</style>\n",
       "<table border=\"1\" class=\"dataframe\">\n",
       "  <thead>\n",
       "    <tr style=\"text-align: right;\">\n",
       "      <th></th>\n",
       "      <th>id</th>\n",
       "      <th>member_id</th>\n",
       "      <th>loan_amnt</th>\n",
       "      <th>funded_amnt</th>\n",
       "      <th>funded_amnt_inv</th>\n",
       "      <th>term</th>\n",
       "      <th>int_rate</th>\n",
       "      <th>installment</th>\n",
       "      <th>grade</th>\n",
       "      <th>sub_grade</th>\n",
       "      <th>...</th>\n",
       "      <th>last_pymnt_amnt</th>\n",
       "      <th>last_credit_pull_d</th>\n",
       "      <th>collections_12_mths_ex_med</th>\n",
       "      <th>policy_code</th>\n",
       "      <th>application_type</th>\n",
       "      <th>acc_now_delinq</th>\n",
       "      <th>chargeoff_within_12_mths</th>\n",
       "      <th>delinq_amnt</th>\n",
       "      <th>pub_rec_bankruptcies</th>\n",
       "      <th>tax_liens</th>\n",
       "    </tr>\n",
       "  </thead>\n",
       "  <tbody>\n",
       "    <tr>\n",
       "      <th>0</th>\n",
       "      <td>7255326</td>\n",
       "      <td>NaN</td>\n",
       "      <td>25000.0</td>\n",
       "      <td>25000.0</td>\n",
       "      <td>25000.0</td>\n",
       "      <td>36 months</td>\n",
       "      <td>12.99</td>\n",
       "      <td>842.23</td>\n",
       "      <td>B</td>\n",
       "      <td>B4</td>\n",
       "      <td>...</td>\n",
       "      <td>11027.09</td>\n",
       "      <td>Feb-2019</td>\n",
       "      <td>0.0</td>\n",
       "      <td>1.0</td>\n",
       "      <td>Individual</td>\n",
       "      <td>0.0</td>\n",
       "      <td>0.0</td>\n",
       "      <td>0.0</td>\n",
       "      <td>0.0</td>\n",
       "      <td>0.0</td>\n",
       "    </tr>\n",
       "    <tr>\n",
       "      <th>1</th>\n",
       "      <td>70865715</td>\n",
       "      <td>NaN</td>\n",
       "      <td>8000.0</td>\n",
       "      <td>8000.0</td>\n",
       "      <td>8000.0</td>\n",
       "      <td>36 months</td>\n",
       "      <td>11.47</td>\n",
       "      <td>263.70</td>\n",
       "      <td>B</td>\n",
       "      <td>B5</td>\n",
       "      <td>...</td>\n",
       "      <td>263.45</td>\n",
       "      <td>Mar-2019</td>\n",
       "      <td>0.0</td>\n",
       "      <td>1.0</td>\n",
       "      <td>Individual</td>\n",
       "      <td>0.0</td>\n",
       "      <td>0.0</td>\n",
       "      <td>0.0</td>\n",
       "      <td>0.0</td>\n",
       "      <td>0.0</td>\n",
       "    </tr>\n",
       "    <tr>\n",
       "      <th>2</th>\n",
       "      <td>41079864</td>\n",
       "      <td>NaN</td>\n",
       "      <td>16000.0</td>\n",
       "      <td>16000.0</td>\n",
       "      <td>16000.0</td>\n",
       "      <td>36 months</td>\n",
       "      <td>6.39</td>\n",
       "      <td>489.59</td>\n",
       "      <td>A</td>\n",
       "      <td>A2</td>\n",
       "      <td>...</td>\n",
       "      <td>650.64</td>\n",
       "      <td>Mar-2017</td>\n",
       "      <td>0.0</td>\n",
       "      <td>1.0</td>\n",
       "      <td>Individual</td>\n",
       "      <td>0.0</td>\n",
       "      <td>0.0</td>\n",
       "      <td>0.0</td>\n",
       "      <td>0.0</td>\n",
       "      <td>0.0</td>\n",
       "    </tr>\n",
       "    <tr>\n",
       "      <th>3</th>\n",
       "      <td>69902853</td>\n",
       "      <td>NaN</td>\n",
       "      <td>15000.0</td>\n",
       "      <td>15000.0</td>\n",
       "      <td>15000.0</td>\n",
       "      <td>36 months</td>\n",
       "      <td>13.99</td>\n",
       "      <td>512.60</td>\n",
       "      <td>C</td>\n",
       "      <td>C4</td>\n",
       "      <td>...</td>\n",
       "      <td>512.60</td>\n",
       "      <td>Jan-2018</td>\n",
       "      <td>0.0</td>\n",
       "      <td>1.0</td>\n",
       "      <td>Individual</td>\n",
       "      <td>0.0</td>\n",
       "      <td>0.0</td>\n",
       "      <td>0.0</td>\n",
       "      <td>0.0</td>\n",
       "      <td>0.0</td>\n",
       "    </tr>\n",
       "    <tr>\n",
       "      <th>4</th>\n",
       "      <td>51005594</td>\n",
       "      <td>NaN</td>\n",
       "      <td>25000.0</td>\n",
       "      <td>25000.0</td>\n",
       "      <td>25000.0</td>\n",
       "      <td>36 months</td>\n",
       "      <td>7.89</td>\n",
       "      <td>782.15</td>\n",
       "      <td>A</td>\n",
       "      <td>A5</td>\n",
       "      <td>...</td>\n",
       "      <td>782.15</td>\n",
       "      <td>Mar-2019</td>\n",
       "      <td>0.0</td>\n",
       "      <td>1.0</td>\n",
       "      <td>Individual</td>\n",
       "      <td>0.0</td>\n",
       "      <td>0.0</td>\n",
       "      <td>0.0</td>\n",
       "      <td>0.0</td>\n",
       "      <td>0.0</td>\n",
       "    </tr>\n",
       "    <tr>\n",
       "      <th>5</th>\n",
       "      <td>54998888</td>\n",
       "      <td>NaN</td>\n",
       "      <td>15000.0</td>\n",
       "      <td>15000.0</td>\n",
       "      <td>15000.0</td>\n",
       "      <td>36 months</td>\n",
       "      <td>13.99</td>\n",
       "      <td>512.60</td>\n",
       "      <td>C</td>\n",
       "      <td>C4</td>\n",
       "      <td>...</td>\n",
       "      <td>515.76</td>\n",
       "      <td>Mar-2019</td>\n",
       "      <td>0.0</td>\n",
       "      <td>1.0</td>\n",
       "      <td>Individual</td>\n",
       "      <td>0.0</td>\n",
       "      <td>0.0</td>\n",
       "      <td>0.0</td>\n",
       "      <td>0.0</td>\n",
       "      <td>0.0</td>\n",
       "    </tr>\n",
       "    <tr>\n",
       "      <th>6</th>\n",
       "      <td>38447561</td>\n",
       "      <td>NaN</td>\n",
       "      <td>6000.0</td>\n",
       "      <td>6000.0</td>\n",
       "      <td>6000.0</td>\n",
       "      <td>36 months</td>\n",
       "      <td>18.54</td>\n",
       "      <td>218.55</td>\n",
       "      <td>E</td>\n",
       "      <td>E1</td>\n",
       "      <td>...</td>\n",
       "      <td>18.32</td>\n",
       "      <td>Apr-2015</td>\n",
       "      <td>0.0</td>\n",
       "      <td>1.0</td>\n",
       "      <td>Individual</td>\n",
       "      <td>0.0</td>\n",
       "      <td>0.0</td>\n",
       "      <td>0.0</td>\n",
       "      <td>0.0</td>\n",
       "      <td>0.0</td>\n",
       "    </tr>\n",
       "    <tr>\n",
       "      <th>7</th>\n",
       "      <td>114508765</td>\n",
       "      <td>NaN</td>\n",
       "      <td>20000.0</td>\n",
       "      <td>20000.0</td>\n",
       "      <td>20000.0</td>\n",
       "      <td>36 months</td>\n",
       "      <td>7.07</td>\n",
       "      <td>618.19</td>\n",
       "      <td>A</td>\n",
       "      <td>A2</td>\n",
       "      <td>...</td>\n",
       "      <td>17621.42</td>\n",
       "      <td>Mar-2018</td>\n",
       "      <td>0.0</td>\n",
       "      <td>1.0</td>\n",
       "      <td>Individual</td>\n",
       "      <td>0.0</td>\n",
       "      <td>0.0</td>\n",
       "      <td>0.0</td>\n",
       "      <td>0.0</td>\n",
       "      <td>0.0</td>\n",
       "    </tr>\n",
       "    <tr>\n",
       "      <th>8</th>\n",
       "      <td>135963462</td>\n",
       "      <td>NaN</td>\n",
       "      <td>10000.0</td>\n",
       "      <td>10000.0</td>\n",
       "      <td>10000.0</td>\n",
       "      <td>36 months</td>\n",
       "      <td>16.46</td>\n",
       "      <td>353.85</td>\n",
       "      <td>C</td>\n",
       "      <td>C5</td>\n",
       "      <td>...</td>\n",
       "      <td>9917.51</td>\n",
       "      <td>Jan-2019</td>\n",
       "      <td>0.0</td>\n",
       "      <td>1.0</td>\n",
       "      <td>Individual</td>\n",
       "      <td>0.0</td>\n",
       "      <td>0.0</td>\n",
       "      <td>0.0</td>\n",
       "      <td>1.0</td>\n",
       "      <td>0.0</td>\n",
       "    </tr>\n",
       "    <tr>\n",
       "      <th>9</th>\n",
       "      <td>55272020</td>\n",
       "      <td>NaN</td>\n",
       "      <td>10000.0</td>\n",
       "      <td>10000.0</td>\n",
       "      <td>10000.0</td>\n",
       "      <td>36 months</td>\n",
       "      <td>14.65</td>\n",
       "      <td>344.95</td>\n",
       "      <td>C</td>\n",
       "      <td>C5</td>\n",
       "      <td>...</td>\n",
       "      <td>1.98</td>\n",
       "      <td>Jan-2019</td>\n",
       "      <td>0.0</td>\n",
       "      <td>1.0</td>\n",
       "      <td>Individual</td>\n",
       "      <td>0.0</td>\n",
       "      <td>0.0</td>\n",
       "      <td>0.0</td>\n",
       "      <td>0.0</td>\n",
       "      <td>0.0</td>\n",
       "    </tr>\n",
       "  </tbody>\n",
       "</table>\n",
       "<p>10 rows × 52 columns</p>\n",
       "</div>"
      ],
      "text/plain": [
       "          id  member_id  loan_amnt  funded_amnt  funded_amnt_inv        term  \\\n",
       "0    7255326        NaN    25000.0      25000.0          25000.0   36 months   \n",
       "1   70865715        NaN     8000.0       8000.0           8000.0   36 months   \n",
       "2   41079864        NaN    16000.0      16000.0          16000.0   36 months   \n",
       "3   69902853        NaN    15000.0      15000.0          15000.0   36 months   \n",
       "4   51005594        NaN    25000.0      25000.0          25000.0   36 months   \n",
       "5   54998888        NaN    15000.0      15000.0          15000.0   36 months   \n",
       "6   38447561        NaN     6000.0       6000.0           6000.0   36 months   \n",
       "7  114508765        NaN    20000.0      20000.0          20000.0   36 months   \n",
       "8  135963462        NaN    10000.0      10000.0          10000.0   36 months   \n",
       "9   55272020        NaN    10000.0      10000.0          10000.0   36 months   \n",
       "\n",
       "   int_rate  installment grade sub_grade  ... last_pymnt_amnt  \\\n",
       "0     12.99       842.23     B        B4  ...        11027.09   \n",
       "1     11.47       263.70     B        B5  ...          263.45   \n",
       "2      6.39       489.59     A        A2  ...          650.64   \n",
       "3     13.99       512.60     C        C4  ...          512.60   \n",
       "4      7.89       782.15     A        A5  ...          782.15   \n",
       "5     13.99       512.60     C        C4  ...          515.76   \n",
       "6     18.54       218.55     E        E1  ...           18.32   \n",
       "7      7.07       618.19     A        A2  ...        17621.42   \n",
       "8     16.46       353.85     C        C5  ...         9917.51   \n",
       "9     14.65       344.95     C        C5  ...            1.98   \n",
       "\n",
       "  last_credit_pull_d collections_12_mths_ex_med  policy_code application_type  \\\n",
       "0           Feb-2019                        0.0          1.0       Individual   \n",
       "1           Mar-2019                        0.0          1.0       Individual   \n",
       "2           Mar-2017                        0.0          1.0       Individual   \n",
       "3           Jan-2018                        0.0          1.0       Individual   \n",
       "4           Mar-2019                        0.0          1.0       Individual   \n",
       "5           Mar-2019                        0.0          1.0       Individual   \n",
       "6           Apr-2015                        0.0          1.0       Individual   \n",
       "7           Mar-2018                        0.0          1.0       Individual   \n",
       "8           Jan-2019                        0.0          1.0       Individual   \n",
       "9           Jan-2019                        0.0          1.0       Individual   \n",
       "\n",
       "  acc_now_delinq chargeoff_within_12_mths delinq_amnt pub_rec_bankruptcies  \\\n",
       "0            0.0                      0.0         0.0                  0.0   \n",
       "1            0.0                      0.0         0.0                  0.0   \n",
       "2            0.0                      0.0         0.0                  0.0   \n",
       "3            0.0                      0.0         0.0                  0.0   \n",
       "4            0.0                      0.0         0.0                  0.0   \n",
       "5            0.0                      0.0         0.0                  0.0   \n",
       "6            0.0                      0.0         0.0                  0.0   \n",
       "7            0.0                      0.0         0.0                  0.0   \n",
       "8            0.0                      0.0         0.0                  1.0   \n",
       "9            0.0                      0.0         0.0                  0.0   \n",
       "\n",
       "  tax_liens  \n",
       "0       0.0  \n",
       "1       0.0  \n",
       "2       0.0  \n",
       "3       0.0  \n",
       "4       0.0  \n",
       "5       0.0  \n",
       "6       0.0  \n",
       "7       0.0  \n",
       "8       0.0  \n",
       "9       0.0  \n",
       "\n",
       "[10 rows x 52 columns]"
      ]
     },
     "execution_count": 8,
     "metadata": {},
     "output_type": "execute_result"
    }
   ],
   "source": [
    "print('Rows: ', credit_data.shape[0], ' Number of columns: ', credit_data.shape[1], '\\n')\n",
    "credit_data.head(10)"
   ]
  },
  {
   "cell_type": "code",
   "execution_count": 9,
   "metadata": {},
   "outputs": [
    {
     "name": "stdout",
     "output_type": "stream",
     "text": [
      "<class 'pandas.core.frame.DataFrame'>\n",
      "Int64Index: 816935 entries, 0 to 816934\n",
      "Data columns (total 52 columns):\n",
      " #   Column                      Non-Null Count   Dtype  \n",
      "---  ------                      --------------   -----  \n",
      " 0   id                          816935 non-null  int64  \n",
      " 1   member_id                   0 non-null       float64\n",
      " 2   loan_amnt                   816935 non-null  float64\n",
      " 3   funded_amnt                 816935 non-null  float64\n",
      " 4   funded_amnt_inv             816935 non-null  float64\n",
      " 5   term                        816935 non-null  object \n",
      " 6   int_rate                    816935 non-null  float64\n",
      " 7   installment                 816935 non-null  float64\n",
      " 8   grade                       816935 non-null  object \n",
      " 9   sub_grade                   816935 non-null  object \n",
      " 10  emp_title                   764696 non-null  object \n",
      " 11  emp_length                  769102 non-null  object \n",
      " 12  home_ownership              816935 non-null  object \n",
      " 13  annual_inc                  816935 non-null  float64\n",
      " 14  verification_status         816935 non-null  object \n",
      " 15  issue_d                     816935 non-null  object \n",
      " 16  loan_status                 816935 non-null  object \n",
      " 17  pymnt_plan                  816935 non-null  object \n",
      " 18  purpose                     816935 non-null  object \n",
      " 19  title                       806917 non-null  object \n",
      " 20  zip_code                    816934 non-null  object \n",
      " 21  addr_state                  816935 non-null  object \n",
      " 22  dti                         816712 non-null  float64\n",
      " 23  delinq_2yrs                 816935 non-null  float64\n",
      " 24  earliest_cr_line            816935 non-null  object \n",
      " 25  inq_last_6mths              816935 non-null  float64\n",
      " 26  open_acc                    816935 non-null  float64\n",
      " 27  pub_rec                     816935 non-null  float64\n",
      " 28  revol_bal                   816935 non-null  float64\n",
      " 29  revol_util                  816422 non-null  float64\n",
      " 30  total_acc                   816935 non-null  float64\n",
      " 31  initial_list_status         816935 non-null  object \n",
      " 32  out_prncp                   816935 non-null  float64\n",
      " 33  out_prncp_inv               816935 non-null  float64\n",
      " 34  total_pymnt                 816935 non-null  float64\n",
      " 35  total_pymnt_inv             816935 non-null  float64\n",
      " 36  total_rec_prncp             816935 non-null  float64\n",
      " 37  total_rec_int               816935 non-null  float64\n",
      " 38  total_rec_late_fee          816935 non-null  float64\n",
      " 39  recoveries                  816935 non-null  float64\n",
      " 40  collection_recovery_fee     816935 non-null  float64\n",
      " 41  last_pymnt_d                815526 non-null  object \n",
      " 42  last_pymnt_amnt             816935 non-null  float64\n",
      " 43  last_credit_pull_d          816903 non-null  object \n",
      " 44  collections_12_mths_ex_med  816903 non-null  float64\n",
      " 45  policy_code                 816935 non-null  float64\n",
      " 46  application_type            816935 non-null  object \n",
      " 47  acc_now_delinq              816934 non-null  float64\n",
      " 48  chargeoff_within_12_mths    816902 non-null  float64\n",
      " 49  delinq_amnt                 816934 non-null  float64\n",
      " 50  pub_rec_bankruptcies        816496 non-null  float64\n",
      " 51  tax_liens                   816911 non-null  float64\n",
      "dtypes: float64(32), int64(1), object(19)\n",
      "memory usage: 330.3+ MB\n"
     ]
    }
   ],
   "source": [
    "credit_data.info()"
   ]
  },
  {
   "cell_type": "code",
   "execution_count": 10,
   "metadata": {},
   "outputs": [],
   "source": [
    "## Remove columns that are not useful or leak infomation about loan_status"
   ]
  },
  {
   "cell_type": "code",
   "execution_count": 11,
   "metadata": {},
   "outputs": [
    {
     "name": "stdout",
     "output_type": "stream",
     "text": [
      "<class 'pandas.core.frame.DataFrame'>\n",
      "Int64Index: 816935 entries, 0 to 816934\n",
      "Data columns (total 32 columns):\n",
      " #   Column                      Non-Null Count   Dtype  \n",
      "---  ------                      --------------   -----  \n",
      " 0   loan_amnt                   816935 non-null  float64\n",
      " 1   term                        816935 non-null  object \n",
      " 2   int_rate                    816935 non-null  float64\n",
      " 3   installment                 816935 non-null  float64\n",
      " 4   emp_length                  769102 non-null  object \n",
      " 5   home_ownership              816935 non-null  object \n",
      " 6   annual_inc                  816935 non-null  float64\n",
      " 7   verification_status         816935 non-null  object \n",
      " 8   loan_status                 816935 non-null  object \n",
      " 9   pymnt_plan                  816935 non-null  object \n",
      " 10  purpose                     816935 non-null  object \n",
      " 11  title                       806917 non-null  object \n",
      " 12  addr_state                  816935 non-null  object \n",
      " 13  dti                         816712 non-null  float64\n",
      " 14  delinq_2yrs                 816935 non-null  float64\n",
      " 15  earliest_cr_line            816935 non-null  object \n",
      " 16  inq_last_6mths              816935 non-null  float64\n",
      " 17  open_acc                    816935 non-null  float64\n",
      " 18  pub_rec                     816935 non-null  float64\n",
      " 19  revol_bal                   816935 non-null  float64\n",
      " 20  revol_util                  816422 non-null  float64\n",
      " 21  total_acc                   816935 non-null  float64\n",
      " 22  initial_list_status         816935 non-null  object \n",
      " 23  last_credit_pull_d          816903 non-null  object \n",
      " 24  collections_12_mths_ex_med  816903 non-null  float64\n",
      " 25  policy_code                 816935 non-null  float64\n",
      " 26  application_type            816935 non-null  object \n",
      " 27  acc_now_delinq              816934 non-null  float64\n",
      " 28  chargeoff_within_12_mths    816902 non-null  float64\n",
      " 29  delinq_amnt                 816934 non-null  float64\n",
      " 30  pub_rec_bankruptcies        816496 non-null  float64\n",
      " 31  tax_liens                   816911 non-null  float64\n",
      "dtypes: float64(19), object(13)\n",
      "memory usage: 205.7+ MB\n"
     ]
    }
   ],
   "source": [
    "credit_data = credit_data[cols_to_use]\n",
    "credit_data.info()"
   ]
  },
  {
   "cell_type": "markdown",
   "metadata": {},
   "source": [
    "## Evaluating target variable"
   ]
  },
  {
   "cell_type": "code",
   "execution_count": 6,
   "metadata": {},
   "outputs": [],
   "source": [
    "target = 'loan_status'"
   ]
  },
  {
   "cell_type": "code",
   "execution_count": 12,
   "metadata": {},
   "outputs": [
    {
     "data": {
      "text/plain": [
       "Fully Paid     653713\n",
       "Charged Off    163222\n",
       "Name: loan_status, dtype: int64"
      ]
     },
     "execution_count": 12,
     "metadata": {},
     "output_type": "execute_result"
    }
   ],
   "source": [
    "credit_data.loan_status.value_counts()"
   ]
  },
  {
   "cell_type": "code",
   "execution_count": 8,
   "metadata": {},
   "outputs": [],
   "source": [
    "# change labels 1 for fully paid and 0 for Charged off\n",
    "\n",
    "status_mapping= {\n",
    "    'loan_status':{\n",
    "        'Fully Paid':1,\n",
    "        'Charged Off' :0\n",
    "    }\n",
    "}"
   ]
  },
  {
   "cell_type": "code",
   "execution_count": 10,
   "metadata": {},
   "outputs": [
    {
     "data": {
      "text/plain": [
       "1    653713\n",
       "0    163222\n",
       "Name: loan_status, dtype: int64"
      ]
     },
     "execution_count": 10,
     "metadata": {},
     "output_type": "execute_result"
    }
   ],
   "source": [
    "credit_data = credit_data.replace(status_mapping)\n",
    "credit_data.loan_status.value_counts()"
   ]
  },
  {
   "cell_type": "code",
   "execution_count": 12,
   "metadata": {},
   "outputs": [
    {
     "name": "stdout",
     "output_type": "stream",
     "text": [
      "<class 'pandas.core.frame.DataFrame'>\n",
      "Int64Index: 816935 entries, 0 to 816934\n",
      "Data columns (total 52 columns):\n",
      " #   Column                      Non-Null Count   Dtype  \n",
      "---  ------                      --------------   -----  \n",
      " 0   id                          816935 non-null  int64  \n",
      " 1   member_id                   0 non-null       float64\n",
      " 2   loan_amnt                   816935 non-null  float64\n",
      " 3   funded_amnt                 816935 non-null  float64\n",
      " 4   funded_amnt_inv             816935 non-null  float64\n",
      " 5   term                        816935 non-null  object \n",
      " 6   int_rate                    816935 non-null  float64\n",
      " 7   installment                 816935 non-null  float64\n",
      " 8   grade                       816935 non-null  object \n",
      " 9   sub_grade                   816935 non-null  object \n",
      " 10  emp_title                   764696 non-null  object \n",
      " 11  emp_length                  769102 non-null  object \n",
      " 12  home_ownership              816935 non-null  object \n",
      " 13  annual_inc                  816935 non-null  float64\n",
      " 14  verification_status         816935 non-null  object \n",
      " 15  issue_d                     816935 non-null  object \n",
      " 16  loan_status                 816935 non-null  int64  \n",
      " 17  pymnt_plan                  816935 non-null  object \n",
      " 18  purpose                     816935 non-null  object \n",
      " 19  title                       806917 non-null  object \n",
      " 20  zip_code                    816934 non-null  object \n",
      " 21  addr_state                  816935 non-null  object \n",
      " 22  dti                         816712 non-null  float64\n",
      " 23  delinq_2yrs                 816935 non-null  float64\n",
      " 24  earliest_cr_line            816935 non-null  object \n",
      " 25  inq_last_6mths              816935 non-null  float64\n",
      " 26  open_acc                    816935 non-null  float64\n",
      " 27  pub_rec                     816935 non-null  float64\n",
      " 28  revol_bal                   816935 non-null  float64\n",
      " 29  revol_util                  816422 non-null  float64\n",
      " 30  total_acc                   816935 non-null  float64\n",
      " 31  initial_list_status         816935 non-null  object \n",
      " 32  out_prncp                   816935 non-null  float64\n",
      " 33  out_prncp_inv               816935 non-null  float64\n",
      " 34  total_pymnt                 816935 non-null  float64\n",
      " 35  total_pymnt_inv             816935 non-null  float64\n",
      " 36  total_rec_prncp             816935 non-null  float64\n",
      " 37  total_rec_int               816935 non-null  float64\n",
      " 38  total_rec_late_fee          816935 non-null  float64\n",
      " 39  recoveries                  816935 non-null  float64\n",
      " 40  collection_recovery_fee     816935 non-null  float64\n",
      " 41  last_pymnt_d                815526 non-null  object \n",
      " 42  last_pymnt_amnt             816935 non-null  float64\n",
      " 43  last_credit_pull_d          816903 non-null  object \n",
      " 44  collections_12_mths_ex_med  816903 non-null  float64\n",
      " 45  policy_code                 816935 non-null  float64\n",
      " 46  application_type            816935 non-null  object \n",
      " 47  acc_now_delinq              816934 non-null  float64\n",
      " 48  chargeoff_within_12_mths    816902 non-null  float64\n",
      " 49  delinq_amnt                 816934 non-null  float64\n",
      " 50  pub_rec_bankruptcies        816496 non-null  float64\n",
      " 51  tax_liens                   816911 non-null  float64\n",
      "dtypes: float64(32), int64(2), object(18)\n",
      "memory usage: 330.3+ MB\n"
     ]
    }
   ],
   "source": [
    "credit_data.info()"
   ]
  },
  {
   "cell_type": "code",
   "execution_count": 14,
   "metadata": {},
   "outputs": [],
   "source": [
    "# Remove the columns that aren't important to model building or leak information about loan status \n",
    "credit_data = credit_data[cols_to_use]"
   ]
  },
  {
   "cell_type": "code",
   "execution_count": 22,
   "metadata": {},
   "outputs": [
    {
     "data": {
      "text/plain": [
       "[['loan_amnt', 1532],\n",
       " ['term', 2],\n",
       " ['int_rate', 640],\n",
       " ['installment', 72779],\n",
       " ['emp_length', 12],\n",
       " ['home_ownership', 6],\n",
       " ['annual_inc', 45673],\n",
       " ['verification_status', 3],\n",
       " ['loan_status', 2],\n",
       " ['pymnt_plan', 1],\n",
       " ['purpose', 14],\n",
       " ['title', 40269],\n",
       " ['addr_state', 51],\n",
       " ['dti', 6299],\n",
       " ['delinq_2yrs', 27],\n",
       " ['earliest_cr_line', 727],\n",
       " ['inq_last_6mths', 9],\n",
       " ['open_acc', 78],\n",
       " ['pub_rec', 33],\n",
       " ['revol_bal', 71492],\n",
       " ['revol_util', 1294],\n",
       " ['total_acc', 134],\n",
       " ['initial_list_status', 2],\n",
       " ['last_credit_pull_d', 138],\n",
       " ['collections_12_mths_ex_med', 14],\n",
       " ['policy_code', 1],\n",
       " ['application_type', 3],\n",
       " ['acc_now_delinq', 9],\n",
       " ['chargeoff_within_12_mths', 12],\n",
       " ['delinq_amnt', 1417],\n",
       " ['pub_rec_bankruptcies', 12],\n",
       " ['tax_liens', 32]]"
      ]
     },
     "execution_count": 22,
     "metadata": {},
     "output_type": "execute_result"
    }
   ],
   "source": [
    "#look for columns that have low variablility\n",
    "\n",
    "[[col, len(pd.unique(credit_data[col]))] for col in credit_data.columns]\n",
    "# credit_data.nunique(axis=1)"
   ]
  },
  {
   "cell_type": "code",
   "execution_count": 31,
   "metadata": {},
   "outputs": [
    {
     "name": "stderr",
     "output_type": "stream",
     "text": [
      "/home/jupyterlab/conda/envs/python/lib/python3.6/site-packages/pandas/core/frame.py:3997: SettingWithCopyWarning: \n",
      "A value is trying to be set on a copy of a slice from a DataFrame\n",
      "\n",
      "See the caveats in the documentation: https://pandas.pydata.org/pandas-docs/stable/user_guide/indexing.html#returning-a-view-versus-a-copy\n",
      "  errors=errors,\n"
     ]
    },
    {
     "name": "stdout",
     "output_type": "stream",
     "text": [
      "pymnt_plan : has been removed\n",
      "policy_code : has been removed\n"
     ]
    }
   ],
   "source": [
    "\n",
    "for column in credit_data:\n",
    "    if len(pd.unique(credit_data[column])) <=1:\n",
    "        credit_data.drop(column, axis = 1, inplace =True)\n",
    "        print(column, ': has been removed')"
   ]
  },
  {
   "cell_type": "code",
   "execution_count": 32,
   "metadata": {},
   "outputs": [
    {
     "data": {
      "text/plain": [
       "(816935, 30)"
      ]
     },
     "execution_count": 32,
     "metadata": {},
     "output_type": "execute_result"
    }
   ],
   "source": [
    "credit_data.shape"
   ]
  },
  {
   "cell_type": "code",
   "execution_count": 17,
   "metadata": {},
   "outputs": [],
   "source": [
    "credit_data.dropna(inplace=True)"
   ]
  },
  {
   "cell_type": "code",
   "execution_count": 18,
   "metadata": {},
   "outputs": [
    {
     "data": {
      "text/plain": [
       "Fully Paid     0.805438\n",
       "Charged Off    0.194562\n",
       "Name: loan_status, dtype: float64"
      ]
     },
     "execution_count": 18,
     "metadata": {},
     "output_type": "execute_result"
    }
   ],
   "source": [
    "credit_data.loan_status.value_counts(normalize=True)"
   ]
  },
  {
   "cell_type": "code",
   "execution_count": null,
   "metadata": {},
   "outputs": [],
   "source": []
  }
 ],
 "metadata": {
  "kernelspec": {
   "display_name": "Python",
   "language": "python",
   "name": "conda-env-python-py"
  },
  "language_info": {
   "codemirror_mode": {
    "name": "ipython",
    "version": 3
   },
   "file_extension": ".py",
   "mimetype": "text/x-python",
   "name": "python",
   "nbconvert_exporter": "python",
   "pygments_lexer": "ipython3",
   "version": "3.6.10"
  }
 },
 "nbformat": 4,
 "nbformat_minor": 4
}
