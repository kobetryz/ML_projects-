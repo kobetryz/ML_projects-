{
 "cells": [
  {
   "cell_type": "markdown",
   "metadata": {},
   "source": [
    "Prediction of credit default\n",
    "\n",
    "This is an end to end machine learning project to predict credit default\n",
    "The note book will consider the following\n",
    "1. Data cleaning\n",
    "2. Data exploration EDA\n",
    "3. Prediction and model evaluation\n",
    "4. Model optimization"
   ]
  },
  {
   "cell_type": "code",
   "execution_count": 29,
   "metadata": {},
   "outputs": [],
   "source": [
    "# import libraries\n",
    "import pandas as pd\n",
    "import numpy as np \n",
    "import seaborn as sns\n",
    "import matplotlib.pyplot as plt\n",
    "# import pydot\n",
    "%matplotlib inline\n",
    "plt.style.use('seaborn-bright')\n",
    "\n",
    "import datetime as dt\n",
    "import timeit\n",
    "#machine learning\n",
    "\n",
    "from sklearn.ensemble import RandomForestClassifier\n",
    "from sklearn.linear_model import LogisticRegression\n",
    "from sklearn.model_selection import cross_val_predict\n",
    "from sklearn.model_selection import train_test_split\n",
    "from sklearn.metrics import confusion_matrix\n"
   ]
  },
  {
   "cell_type": "markdown",
   "metadata": {},
   "source": [
    "# Dataset is extremely large and current workspace doesn't allow to read all of it\n",
    "\n",
    "There are several columns that are not useful (at least for now) to predict defaulters. on the other hand there are columns to leak information about loans. \n",
    "\n",
    "irrelevant_or_leak_info = [\"id\", \"member_id\", \"funded_amnt\", \"funded_amnt_inv\", \"grade\", \"sub_grade\", \"emp_title\", \"issue_d\",\"zip_code\", \"out_prncp\", \"out_prncp_inv\", \"total_pymnt\", \"total_pymnt_inv\", \"total_rec_prncp\",\n",
    "          \"total_rec_int\", \"total_rec_late_fee\", \"recoveries\", \"collection_recovery_fee\", \"last_pymnt_d\", \"last_pymnt_amnt\"]\n",
    "          \n",
    "  or more specifically the columns need in order to load a large dataset into this notebook version due to computing power is the cols_to_use\n",
    "          \n",
    "Additionally might be easier to read in chunks"
   ]
  },
  {
   "cell_type": "code",
   "execution_count": null,
   "metadata": {},
   "outputs": [],
   "source": [
    "#Columns to read"
   ]
  },
  {
   "cell_type": "code",
   "execution_count": 2,
   "metadata": {},
   "outputs": [],
   "source": [
    "cols_to_use =['loan_amnt',\n",
    " 'term',\n",
    " 'int_rate',\n",
    " 'installment',\n",
    " 'emp_length',\n",
    " 'home_ownership',\n",
    " 'annual_inc',\n",
    " 'verification_status',\n",
    " 'loan_status',\n",
    " 'pymnt_plan',\n",
    " 'purpose',\n",
    " 'title',\n",
    " 'addr_state',\n",
    " 'dti',\n",
    " 'delinq_2yrs',\n",
    " 'earliest_cr_line',\n",
    " 'inq_last_6mths',\n",
    " 'open_acc',\n",
    " 'pub_rec',\n",
    " 'revol_bal',\n",
    " 'revol_util',\n",
    " 'total_acc',\n",
    " 'initial_list_status',\n",
    " 'last_credit_pull_d',\n",
    " 'collections_12_mths_ex_med',\n",
    " 'policy_code',\n",
    " 'application_type',\n",
    " 'acc_now_delinq',\n",
    " 'chargeoff_within_12_mths',\n",
    " 'delinq_amnt',\n",
    " 'pub_rec_bankruptcies',\n",
    " 'tax_liens']\n",
    "\n",
    "# len([\"id\", \"member_id\", \"funded_amnt\", \"funded_amnt_inv\", \"grade\", \"sub_grade\", \"emp_title\", \"issue_d\",\"zip_code\", \"out_prncp\", \"out_prncp_inv\", \"total_pymnt\", \"total_pymnt_inv\", \"total_rec_prncp\",\n",
    "#          \"total_rec_int\", \"total_rec_late_fee\", \"recoveries\", \"collection_recovery_fee\", \"last_pymnt_d\", \"last_pymnt_amnt\"])\n"
   ]
  },
  {
   "cell_type": "code",
   "execution_count": 3,
   "metadata": {},
   "outputs": [
    {
     "name": "stdout",
     "output_type": "stream",
     "text": [
      "Rows:  816935  Number of columns:  52 \n",
      "\n"
     ]
    },
    {
     "data": {
      "text/html": [
       "<div>\n",
       "<style scoped>\n",
       "    .dataframe tbody tr th:only-of-type {\n",
       "        vertical-align: middle;\n",
       "    }\n",
       "\n",
       "    .dataframe tbody tr th {\n",
       "        vertical-align: top;\n",
       "    }\n",
       "\n",
       "    .dataframe thead th {\n",
       "        text-align: right;\n",
       "    }\n",
       "</style>\n",
       "<table border=\"1\" class=\"dataframe\">\n",
       "  <thead>\n",
       "    <tr style=\"text-align: right;\">\n",
       "      <th></th>\n",
       "      <th>id</th>\n",
       "      <th>member_id</th>\n",
       "      <th>loan_amnt</th>\n",
       "      <th>funded_amnt</th>\n",
       "      <th>funded_amnt_inv</th>\n",
       "      <th>term</th>\n",
       "      <th>int_rate</th>\n",
       "      <th>installment</th>\n",
       "      <th>grade</th>\n",
       "      <th>sub_grade</th>\n",
       "      <th>...</th>\n",
       "      <th>last_pymnt_amnt</th>\n",
       "      <th>last_credit_pull_d</th>\n",
       "      <th>collections_12_mths_ex_med</th>\n",
       "      <th>policy_code</th>\n",
       "      <th>application_type</th>\n",
       "      <th>acc_now_delinq</th>\n",
       "      <th>chargeoff_within_12_mths</th>\n",
       "      <th>delinq_amnt</th>\n",
       "      <th>pub_rec_bankruptcies</th>\n",
       "      <th>tax_liens</th>\n",
       "    </tr>\n",
       "  </thead>\n",
       "  <tbody>\n",
       "    <tr>\n",
       "      <th>0</th>\n",
       "      <td>7255326</td>\n",
       "      <td>NaN</td>\n",
       "      <td>25000.0</td>\n",
       "      <td>25000.0</td>\n",
       "      <td>25000.0</td>\n",
       "      <td>36 months</td>\n",
       "      <td>12.99</td>\n",
       "      <td>842.23</td>\n",
       "      <td>B</td>\n",
       "      <td>B4</td>\n",
       "      <td>...</td>\n",
       "      <td>11027.09</td>\n",
       "      <td>Feb-2019</td>\n",
       "      <td>0.0</td>\n",
       "      <td>1.0</td>\n",
       "      <td>Individual</td>\n",
       "      <td>0.0</td>\n",
       "      <td>0.0</td>\n",
       "      <td>0.0</td>\n",
       "      <td>0.0</td>\n",
       "      <td>0.0</td>\n",
       "    </tr>\n",
       "    <tr>\n",
       "      <th>1</th>\n",
       "      <td>70865715</td>\n",
       "      <td>NaN</td>\n",
       "      <td>8000.0</td>\n",
       "      <td>8000.0</td>\n",
       "      <td>8000.0</td>\n",
       "      <td>36 months</td>\n",
       "      <td>11.47</td>\n",
       "      <td>263.70</td>\n",
       "      <td>B</td>\n",
       "      <td>B5</td>\n",
       "      <td>...</td>\n",
       "      <td>263.45</td>\n",
       "      <td>Mar-2019</td>\n",
       "      <td>0.0</td>\n",
       "      <td>1.0</td>\n",
       "      <td>Individual</td>\n",
       "      <td>0.0</td>\n",
       "      <td>0.0</td>\n",
       "      <td>0.0</td>\n",
       "      <td>0.0</td>\n",
       "      <td>0.0</td>\n",
       "    </tr>\n",
       "    <tr>\n",
       "      <th>2</th>\n",
       "      <td>41079864</td>\n",
       "      <td>NaN</td>\n",
       "      <td>16000.0</td>\n",
       "      <td>16000.0</td>\n",
       "      <td>16000.0</td>\n",
       "      <td>36 months</td>\n",
       "      <td>6.39</td>\n",
       "      <td>489.59</td>\n",
       "      <td>A</td>\n",
       "      <td>A2</td>\n",
       "      <td>...</td>\n",
       "      <td>650.64</td>\n",
       "      <td>Mar-2017</td>\n",
       "      <td>0.0</td>\n",
       "      <td>1.0</td>\n",
       "      <td>Individual</td>\n",
       "      <td>0.0</td>\n",
       "      <td>0.0</td>\n",
       "      <td>0.0</td>\n",
       "      <td>0.0</td>\n",
       "      <td>0.0</td>\n",
       "    </tr>\n",
       "    <tr>\n",
       "      <th>3</th>\n",
       "      <td>69902853</td>\n",
       "      <td>NaN</td>\n",
       "      <td>15000.0</td>\n",
       "      <td>15000.0</td>\n",
       "      <td>15000.0</td>\n",
       "      <td>36 months</td>\n",
       "      <td>13.99</td>\n",
       "      <td>512.60</td>\n",
       "      <td>C</td>\n",
       "      <td>C4</td>\n",
       "      <td>...</td>\n",
       "      <td>512.60</td>\n",
       "      <td>Jan-2018</td>\n",
       "      <td>0.0</td>\n",
       "      <td>1.0</td>\n",
       "      <td>Individual</td>\n",
       "      <td>0.0</td>\n",
       "      <td>0.0</td>\n",
       "      <td>0.0</td>\n",
       "      <td>0.0</td>\n",
       "      <td>0.0</td>\n",
       "    </tr>\n",
       "    <tr>\n",
       "      <th>4</th>\n",
       "      <td>51005594</td>\n",
       "      <td>NaN</td>\n",
       "      <td>25000.0</td>\n",
       "      <td>25000.0</td>\n",
       "      <td>25000.0</td>\n",
       "      <td>36 months</td>\n",
       "      <td>7.89</td>\n",
       "      <td>782.15</td>\n",
       "      <td>A</td>\n",
       "      <td>A5</td>\n",
       "      <td>...</td>\n",
       "      <td>782.15</td>\n",
       "      <td>Mar-2019</td>\n",
       "      <td>0.0</td>\n",
       "      <td>1.0</td>\n",
       "      <td>Individual</td>\n",
       "      <td>0.0</td>\n",
       "      <td>0.0</td>\n",
       "      <td>0.0</td>\n",
       "      <td>0.0</td>\n",
       "      <td>0.0</td>\n",
       "    </tr>\n",
       "    <tr>\n",
       "      <th>5</th>\n",
       "      <td>54998888</td>\n",
       "      <td>NaN</td>\n",
       "      <td>15000.0</td>\n",
       "      <td>15000.0</td>\n",
       "      <td>15000.0</td>\n",
       "      <td>36 months</td>\n",
       "      <td>13.99</td>\n",
       "      <td>512.60</td>\n",
       "      <td>C</td>\n",
       "      <td>C4</td>\n",
       "      <td>...</td>\n",
       "      <td>515.76</td>\n",
       "      <td>Mar-2019</td>\n",
       "      <td>0.0</td>\n",
       "      <td>1.0</td>\n",
       "      <td>Individual</td>\n",
       "      <td>0.0</td>\n",
       "      <td>0.0</td>\n",
       "      <td>0.0</td>\n",
       "      <td>0.0</td>\n",
       "      <td>0.0</td>\n",
       "    </tr>\n",
       "    <tr>\n",
       "      <th>6</th>\n",
       "      <td>38447561</td>\n",
       "      <td>NaN</td>\n",
       "      <td>6000.0</td>\n",
       "      <td>6000.0</td>\n",
       "      <td>6000.0</td>\n",
       "      <td>36 months</td>\n",
       "      <td>18.54</td>\n",
       "      <td>218.55</td>\n",
       "      <td>E</td>\n",
       "      <td>E1</td>\n",
       "      <td>...</td>\n",
       "      <td>18.32</td>\n",
       "      <td>Apr-2015</td>\n",
       "      <td>0.0</td>\n",
       "      <td>1.0</td>\n",
       "      <td>Individual</td>\n",
       "      <td>0.0</td>\n",
       "      <td>0.0</td>\n",
       "      <td>0.0</td>\n",
       "      <td>0.0</td>\n",
       "      <td>0.0</td>\n",
       "    </tr>\n",
       "    <tr>\n",
       "      <th>7</th>\n",
       "      <td>114508765</td>\n",
       "      <td>NaN</td>\n",
       "      <td>20000.0</td>\n",
       "      <td>20000.0</td>\n",
       "      <td>20000.0</td>\n",
       "      <td>36 months</td>\n",
       "      <td>7.07</td>\n",
       "      <td>618.19</td>\n",
       "      <td>A</td>\n",
       "      <td>A2</td>\n",
       "      <td>...</td>\n",
       "      <td>17621.42</td>\n",
       "      <td>Mar-2018</td>\n",
       "      <td>0.0</td>\n",
       "      <td>1.0</td>\n",
       "      <td>Individual</td>\n",
       "      <td>0.0</td>\n",
       "      <td>0.0</td>\n",
       "      <td>0.0</td>\n",
       "      <td>0.0</td>\n",
       "      <td>0.0</td>\n",
       "    </tr>\n",
       "    <tr>\n",
       "      <th>8</th>\n",
       "      <td>135963462</td>\n",
       "      <td>NaN</td>\n",
       "      <td>10000.0</td>\n",
       "      <td>10000.0</td>\n",
       "      <td>10000.0</td>\n",
       "      <td>36 months</td>\n",
       "      <td>16.46</td>\n",
       "      <td>353.85</td>\n",
       "      <td>C</td>\n",
       "      <td>C5</td>\n",
       "      <td>...</td>\n",
       "      <td>9917.51</td>\n",
       "      <td>Jan-2019</td>\n",
       "      <td>0.0</td>\n",
       "      <td>1.0</td>\n",
       "      <td>Individual</td>\n",
       "      <td>0.0</td>\n",
       "      <td>0.0</td>\n",
       "      <td>0.0</td>\n",
       "      <td>1.0</td>\n",
       "      <td>0.0</td>\n",
       "    </tr>\n",
       "    <tr>\n",
       "      <th>9</th>\n",
       "      <td>55272020</td>\n",
       "      <td>NaN</td>\n",
       "      <td>10000.0</td>\n",
       "      <td>10000.0</td>\n",
       "      <td>10000.0</td>\n",
       "      <td>36 months</td>\n",
       "      <td>14.65</td>\n",
       "      <td>344.95</td>\n",
       "      <td>C</td>\n",
       "      <td>C5</td>\n",
       "      <td>...</td>\n",
       "      <td>1.98</td>\n",
       "      <td>Jan-2019</td>\n",
       "      <td>0.0</td>\n",
       "      <td>1.0</td>\n",
       "      <td>Individual</td>\n",
       "      <td>0.0</td>\n",
       "      <td>0.0</td>\n",
       "      <td>0.0</td>\n",
       "      <td>0.0</td>\n",
       "      <td>0.0</td>\n",
       "    </tr>\n",
       "  </tbody>\n",
       "</table>\n",
       "<p>10 rows × 52 columns</p>\n",
       "</div>"
      ],
      "text/plain": [
       "          id  member_id  loan_amnt  funded_amnt  funded_amnt_inv        term  \\\n",
       "0    7255326        NaN    25000.0      25000.0          25000.0   36 months   \n",
       "1   70865715        NaN     8000.0       8000.0           8000.0   36 months   \n",
       "2   41079864        NaN    16000.0      16000.0          16000.0   36 months   \n",
       "3   69902853        NaN    15000.0      15000.0          15000.0   36 months   \n",
       "4   51005594        NaN    25000.0      25000.0          25000.0   36 months   \n",
       "5   54998888        NaN    15000.0      15000.0          15000.0   36 months   \n",
       "6   38447561        NaN     6000.0       6000.0           6000.0   36 months   \n",
       "7  114508765        NaN    20000.0      20000.0          20000.0   36 months   \n",
       "8  135963462        NaN    10000.0      10000.0          10000.0   36 months   \n",
       "9   55272020        NaN    10000.0      10000.0          10000.0   36 months   \n",
       "\n",
       "   int_rate  installment grade sub_grade  ... last_pymnt_amnt  \\\n",
       "0     12.99       842.23     B        B4  ...        11027.09   \n",
       "1     11.47       263.70     B        B5  ...          263.45   \n",
       "2      6.39       489.59     A        A2  ...          650.64   \n",
       "3     13.99       512.60     C        C4  ...          512.60   \n",
       "4      7.89       782.15     A        A5  ...          782.15   \n",
       "5     13.99       512.60     C        C4  ...          515.76   \n",
       "6     18.54       218.55     E        E1  ...           18.32   \n",
       "7      7.07       618.19     A        A2  ...        17621.42   \n",
       "8     16.46       353.85     C        C5  ...         9917.51   \n",
       "9     14.65       344.95     C        C5  ...            1.98   \n",
       "\n",
       "  last_credit_pull_d collections_12_mths_ex_med  policy_code application_type  \\\n",
       "0           Feb-2019                        0.0          1.0       Individual   \n",
       "1           Mar-2019                        0.0          1.0       Individual   \n",
       "2           Mar-2017                        0.0          1.0       Individual   \n",
       "3           Jan-2018                        0.0          1.0       Individual   \n",
       "4           Mar-2019                        0.0          1.0       Individual   \n",
       "5           Mar-2019                        0.0          1.0       Individual   \n",
       "6           Apr-2015                        0.0          1.0       Individual   \n",
       "7           Mar-2018                        0.0          1.0       Individual   \n",
       "8           Jan-2019                        0.0          1.0       Individual   \n",
       "9           Jan-2019                        0.0          1.0       Individual   \n",
       "\n",
       "  acc_now_delinq chargeoff_within_12_mths delinq_amnt pub_rec_bankruptcies  \\\n",
       "0            0.0                      0.0         0.0                  0.0   \n",
       "1            0.0                      0.0         0.0                  0.0   \n",
       "2            0.0                      0.0         0.0                  0.0   \n",
       "3            0.0                      0.0         0.0                  0.0   \n",
       "4            0.0                      0.0         0.0                  0.0   \n",
       "5            0.0                      0.0         0.0                  0.0   \n",
       "6            0.0                      0.0         0.0                  0.0   \n",
       "7            0.0                      0.0         0.0                  0.0   \n",
       "8            0.0                      0.0         0.0                  1.0   \n",
       "9            0.0                      0.0         0.0                  0.0   \n",
       "\n",
       "  tax_liens  \n",
       "0       0.0  \n",
       "1       0.0  \n",
       "2       0.0  \n",
       "3       0.0  \n",
       "4       0.0  \n",
       "5       0.0  \n",
       "6       0.0  \n",
       "7       0.0  \n",
       "8       0.0  \n",
       "9       0.0  \n",
       "\n",
       "[10 rows x 52 columns]"
      ]
     },
     "execution_count": 3,
     "metadata": {},
     "output_type": "execute_result"
    }
   ],
   "source": [
    "credit_data = []\n",
    "for chunk in pd.read_csv('Modified_lending_data.csv', chunksize=25000, index_col=0):\n",
    "    credit_data.append(chunk)\n",
    "\n",
    "    ### To only read a set number of \n",
    "# credit_data.read_csv('Modified_lending_data.csv',  nrows =350000)\n",
    "credit_data=pd.concat(credit_data)\n",
    "print('Rows: ', credit_data.shape[0], ' Number of columns: ', credit_data.shape[1], '\\n')\n",
    "credit_data.head(10)"
   ]
  },
  {
   "cell_type": "code",
   "execution_count": 9,
   "metadata": {},
   "outputs": [
    {
     "name": "stdout",
     "output_type": "stream",
     "text": [
      "<class 'pandas.core.frame.DataFrame'>\n",
      "Int64Index: 816935 entries, 0 to 816934\n",
      "Data columns (total 52 columns):\n",
      " #   Column                      Non-Null Count   Dtype  \n",
      "---  ------                      --------------   -----  \n",
      " 0   id                          816935 non-null  int64  \n",
      " 1   member_id                   0 non-null       float64\n",
      " 2   loan_amnt                   816935 non-null  float64\n",
      " 3   funded_amnt                 816935 non-null  float64\n",
      " 4   funded_amnt_inv             816935 non-null  float64\n",
      " 5   term                        816935 non-null  object \n",
      " 6   int_rate                    816935 non-null  float64\n",
      " 7   installment                 816935 non-null  float64\n",
      " 8   grade                       816935 non-null  object \n",
      " 9   sub_grade                   816935 non-null  object \n",
      " 10  emp_title                   764696 non-null  object \n",
      " 11  emp_length                  769102 non-null  object \n",
      " 12  home_ownership              816935 non-null  object \n",
      " 13  annual_inc                  816935 non-null  float64\n",
      " 14  verification_status         816935 non-null  object \n",
      " 15  issue_d                     816935 non-null  object \n",
      " 16  loan_status                 816935 non-null  object \n",
      " 17  pymnt_plan                  816935 non-null  object \n",
      " 18  purpose                     816935 non-null  object \n",
      " 19  title                       806917 non-null  object \n",
      " 20  zip_code                    816934 non-null  object \n",
      " 21  addr_state                  816935 non-null  object \n",
      " 22  dti                         816712 non-null  float64\n",
      " 23  delinq_2yrs                 816935 non-null  float64\n",
      " 24  earliest_cr_line            816935 non-null  object \n",
      " 25  inq_last_6mths              816935 non-null  float64\n",
      " 26  open_acc                    816935 non-null  float64\n",
      " 27  pub_rec                     816935 non-null  float64\n",
      " 28  revol_bal                   816935 non-null  float64\n",
      " 29  revol_util                  816422 non-null  float64\n",
      " 30  total_acc                   816935 non-null  float64\n",
      " 31  initial_list_status         816935 non-null  object \n",
      " 32  out_prncp                   816935 non-null  float64\n",
      " 33  out_prncp_inv               816935 non-null  float64\n",
      " 34  total_pymnt                 816935 non-null  float64\n",
      " 35  total_pymnt_inv             816935 non-null  float64\n",
      " 36  total_rec_prncp             816935 non-null  float64\n",
      " 37  total_rec_int               816935 non-null  float64\n",
      " 38  total_rec_late_fee          816935 non-null  float64\n",
      " 39  recoveries                  816935 non-null  float64\n",
      " 40  collection_recovery_fee     816935 non-null  float64\n",
      " 41  last_pymnt_d                815526 non-null  object \n",
      " 42  last_pymnt_amnt             816935 non-null  float64\n",
      " 43  last_credit_pull_d          816903 non-null  object \n",
      " 44  collections_12_mths_ex_med  816903 non-null  float64\n",
      " 45  policy_code                 816935 non-null  float64\n",
      " 46  application_type            816935 non-null  object \n",
      " 47  acc_now_delinq              816934 non-null  float64\n",
      " 48  chargeoff_within_12_mths    816902 non-null  float64\n",
      " 49  delinq_amnt                 816934 non-null  float64\n",
      " 50  pub_rec_bankruptcies        816496 non-null  float64\n",
      " 51  tax_liens                   816911 non-null  float64\n",
      "dtypes: float64(32), int64(1), object(19)\n",
      "memory usage: 330.3+ MB\n"
     ]
    }
   ],
   "source": [
    "credit_data.info()"
   ]
  },
  {
   "cell_type": "code",
   "execution_count": 10,
   "metadata": {},
   "outputs": [],
   "source": [
    "## Remove columns that are not useful or leak infomation about loan_status"
   ]
  },
  {
   "cell_type": "code",
   "execution_count": 4,
   "metadata": {},
   "outputs": [
    {
     "name": "stdout",
     "output_type": "stream",
     "text": [
      "<class 'pandas.core.frame.DataFrame'>\n",
      "Int64Index: 816935 entries, 0 to 816934\n",
      "Data columns (total 32 columns):\n",
      " #   Column                      Non-Null Count   Dtype  \n",
      "---  ------                      --------------   -----  \n",
      " 0   loan_amnt                   816935 non-null  float64\n",
      " 1   term                        816935 non-null  object \n",
      " 2   int_rate                    816935 non-null  float64\n",
      " 3   installment                 816935 non-null  float64\n",
      " 4   emp_length                  769102 non-null  object \n",
      " 5   home_ownership              816935 non-null  object \n",
      " 6   annual_inc                  816935 non-null  float64\n",
      " 7   verification_status         816935 non-null  object \n",
      " 8   loan_status                 816935 non-null  object \n",
      " 9   pymnt_plan                  816935 non-null  object \n",
      " 10  purpose                     816935 non-null  object \n",
      " 11  title                       806917 non-null  object \n",
      " 12  addr_state                  816935 non-null  object \n",
      " 13  dti                         816712 non-null  float64\n",
      " 14  delinq_2yrs                 816935 non-null  float64\n",
      " 15  earliest_cr_line            816935 non-null  object \n",
      " 16  inq_last_6mths              816935 non-null  float64\n",
      " 17  open_acc                    816935 non-null  float64\n",
      " 18  pub_rec                     816935 non-null  float64\n",
      " 19  revol_bal                   816935 non-null  float64\n",
      " 20  revol_util                  816422 non-null  float64\n",
      " 21  total_acc                   816935 non-null  float64\n",
      " 22  initial_list_status         816935 non-null  object \n",
      " 23  last_credit_pull_d          816903 non-null  object \n",
      " 24  collections_12_mths_ex_med  816903 non-null  float64\n",
      " 25  policy_code                 816935 non-null  float64\n",
      " 26  application_type            816935 non-null  object \n",
      " 27  acc_now_delinq              816934 non-null  float64\n",
      " 28  chargeoff_within_12_mths    816902 non-null  float64\n",
      " 29  delinq_amnt                 816934 non-null  float64\n",
      " 30  pub_rec_bankruptcies        816496 non-null  float64\n",
      " 31  tax_liens                   816911 non-null  float64\n",
      "dtypes: float64(19), object(13)\n",
      "memory usage: 205.7+ MB\n"
     ]
    }
   ],
   "source": [
    "credit_data = credit_data[cols_to_use]\n",
    "credit_data.info()"
   ]
  },
  {
   "cell_type": "markdown",
   "metadata": {},
   "source": [
    "## Evaluating target variable"
   ]
  },
  {
   "cell_type": "code",
   "execution_count": 5,
   "metadata": {},
   "outputs": [],
   "source": [
    "target = 'loan_status'"
   ]
  },
  {
   "cell_type": "code",
   "execution_count": 11,
   "metadata": {},
   "outputs": [
    {
     "data": {
      "text/plain": [
       "Fully Paid     0.800202\n",
       "Charged Off    0.199798\n",
       "Name: loan_status, dtype: float64"
      ]
     },
     "execution_count": 11,
     "metadata": {},
     "output_type": "execute_result"
    }
   ],
   "source": [
    "credit_data.loan_status.value_counts(normalize = True)"
   ]
  },
  {
   "cell_type": "code",
   "execution_count": 6,
   "metadata": {},
   "outputs": [],
   "source": [
    "# change labels 1 for fully paid and 0 for Charged off\n",
    "\n",
    "status_mapping= {\n",
    "    'loan_status':{\n",
    "        'Fully Paid':1,\n",
    "        'Charged Off' :0\n",
    "    }\n",
    "}"
   ]
  },
  {
   "cell_type": "code",
   "execution_count": 7,
   "metadata": {},
   "outputs": [
    {
     "data": {
      "text/plain": [
       "1    0.800202\n",
       "0    0.199798\n",
       "Name: loan_status, dtype: float64"
      ]
     },
     "execution_count": 7,
     "metadata": {},
     "output_type": "execute_result"
    }
   ],
   "source": [
    "credit_data = credit_data.replace(status_mapping)\n",
    "credit_data.loan_status.value_counts(normalize = True)"
   ]
  },
  {
   "cell_type": "code",
   "execution_count": 9,
   "metadata": {},
   "outputs": [
    {
     "name": "stdout",
     "output_type": "stream",
     "text": [
      "<class 'pandas.core.frame.DataFrame'>\n",
      "Int64Index: 816935 entries, 0 to 816934\n",
      "Data columns (total 32 columns):\n",
      " #   Column                      Non-Null Count   Dtype  \n",
      "---  ------                      --------------   -----  \n",
      " 0   loan_amnt                   816935 non-null  float64\n",
      " 1   term                        816935 non-null  object \n",
      " 2   int_rate                    816935 non-null  float64\n",
      " 3   installment                 816935 non-null  float64\n",
      " 4   emp_length                  769102 non-null  object \n",
      " 5   home_ownership              816935 non-null  object \n",
      " 6   annual_inc                  816935 non-null  float64\n",
      " 7   verification_status         816935 non-null  object \n",
      " 8   loan_status                 816935 non-null  object \n",
      " 9   pymnt_plan                  816935 non-null  object \n",
      " 10  purpose                     816935 non-null  object \n",
      " 11  title                       806917 non-null  object \n",
      " 12  addr_state                  816935 non-null  object \n",
      " 13  dti                         816712 non-null  float64\n",
      " 14  delinq_2yrs                 816935 non-null  float64\n",
      " 15  earliest_cr_line            816935 non-null  object \n",
      " 16  inq_last_6mths              816935 non-null  float64\n",
      " 17  open_acc                    816935 non-null  float64\n",
      " 18  pub_rec                     816935 non-null  float64\n",
      " 19  revol_bal                   816935 non-null  float64\n",
      " 20  revol_util                  816422 non-null  float64\n",
      " 21  total_acc                   816935 non-null  float64\n",
      " 22  initial_list_status         816935 non-null  object \n",
      " 23  last_credit_pull_d          816903 non-null  object \n",
      " 24  collections_12_mths_ex_med  816903 non-null  float64\n",
      " 25  policy_code                 816935 non-null  float64\n",
      " 26  application_type            816935 non-null  object \n",
      " 27  acc_now_delinq              816934 non-null  float64\n",
      " 28  chargeoff_within_12_mths    816902 non-null  float64\n",
      " 29  delinq_amnt                 816934 non-null  float64\n",
      " 30  pub_rec_bankruptcies        816496 non-null  float64\n",
      " 31  tax_liens                   816911 non-null  float64\n",
      "dtypes: float64(19), object(13)\n",
      "memory usage: 205.7+ MB\n"
     ]
    }
   ],
   "source": [
    "credit_data.info()"
   ]
  },
  {
   "cell_type": "code",
   "execution_count": 11,
   "metadata": {},
   "outputs": [
    {
     "data": {
      "text/plain": [
       "[['loan_amnt', 1532],\n",
       " ['term', 2],\n",
       " ['int_rate', 640],\n",
       " ['installment', 72779],\n",
       " ['emp_length', 12],\n",
       " ['home_ownership', 6],\n",
       " ['annual_inc', 45673],\n",
       " ['verification_status', 3],\n",
       " ['loan_status', 2],\n",
       " ['pymnt_plan', 1],\n",
       " ['purpose', 14],\n",
       " ['title', 40269],\n",
       " ['addr_state', 51],\n",
       " ['dti', 6299],\n",
       " ['delinq_2yrs', 27],\n",
       " ['earliest_cr_line', 727],\n",
       " ['inq_last_6mths', 9],\n",
       " ['open_acc', 78],\n",
       " ['pub_rec', 33],\n",
       " ['revol_bal', 71492],\n",
       " ['revol_util', 1294],\n",
       " ['total_acc', 134],\n",
       " ['initial_list_status', 2],\n",
       " ['last_credit_pull_d', 138],\n",
       " ['collections_12_mths_ex_med', 14],\n",
       " ['policy_code', 1],\n",
       " ['application_type', 3],\n",
       " ['acc_now_delinq', 9],\n",
       " ['chargeoff_within_12_mths', 12],\n",
       " ['delinq_amnt', 1417],\n",
       " ['pub_rec_bankruptcies', 12],\n",
       " ['tax_liens', 32]]"
      ]
     },
     "execution_count": 11,
     "metadata": {},
     "output_type": "execute_result"
    }
   ],
   "source": [
    "#look for columns that have low variablility\n",
    "\n",
    "[[col, len(pd.unique(credit_data[col]))] for col in credit_data.columns]\n",
    "# credit_data.nunique(axis=1)"
   ]
  },
  {
   "cell_type": "code",
   "execution_count": 8,
   "metadata": {},
   "outputs": [
    {
     "name": "stdout",
     "output_type": "stream",
     "text": [
      "pymnt_plan : has been removed\n",
      "policy_code : has been removed\n"
     ]
    },
    {
     "data": {
      "text/plain": [
       "(816935, 30)"
      ]
     },
     "execution_count": 8,
     "metadata": {},
     "output_type": "execute_result"
    }
   ],
   "source": [
    "# drop cols with just one variable\n",
    "for column in credit_data:\n",
    "    if len(pd.unique(credit_data[column])) <=1:\n",
    "        credit_data.drop(column, axis = 1, inplace =True)\n",
    "        print(column, ': has been removed')\n",
    "credit_data.shape"
   ]
  },
  {
   "cell_type": "markdown",
   "metadata": {},
   "source": [
    "##### Drop all nan's as we have a big dataset. We can come and take a look "
   ]
  },
  {
   "cell_type": "code",
   "execution_count": 9,
   "metadata": {},
   "outputs": [
    {
     "data": {
      "text/plain": [
       "1    0.805438\n",
       "0    0.194562\n",
       "Name: loan_status, dtype: float64"
      ]
     },
     "execution_count": 9,
     "metadata": {},
     "output_type": "execute_result"
    }
   ],
   "source": [
    "credit_data.dropna(inplace=True)\n",
    "# see if proportions of loan_status has changed\n",
    "credit_data.loan_status.value_counts(normalize=True)"
   ]
  },
  {
   "cell_type": "markdown",
   "metadata": {},
   "source": [
    "## Process object columns, modify and 'dummify' where neccessary!"
   ]
  },
  {
   "cell_type": "code",
   "execution_count": 11,
   "metadata": {},
   "outputs": [
    {
     "data": {
      "text/html": [
       "<div>\n",
       "<style scoped>\n",
       "    .dataframe tbody tr th:only-of-type {\n",
       "        vertical-align: middle;\n",
       "    }\n",
       "\n",
       "    .dataframe tbody tr th {\n",
       "        vertical-align: top;\n",
       "    }\n",
       "\n",
       "    .dataframe thead th {\n",
       "        text-align: right;\n",
       "    }\n",
       "</style>\n",
       "<table border=\"1\" class=\"dataframe\">\n",
       "  <thead>\n",
       "    <tr style=\"text-align: right;\">\n",
       "      <th></th>\n",
       "      <th>term</th>\n",
       "      <th>emp_length</th>\n",
       "      <th>home_ownership</th>\n",
       "      <th>verification_status</th>\n",
       "      <th>purpose</th>\n",
       "      <th>title</th>\n",
       "      <th>addr_state</th>\n",
       "      <th>earliest_cr_line</th>\n",
       "      <th>initial_list_status</th>\n",
       "      <th>last_credit_pull_d</th>\n",
       "      <th>application_type</th>\n",
       "    </tr>\n",
       "  </thead>\n",
       "  <tbody>\n",
       "    <tr>\n",
       "      <th>0</th>\n",
       "      <td>36 months</td>\n",
       "      <td>10+ years</td>\n",
       "      <td>MORTGAGE</td>\n",
       "      <td>Verified</td>\n",
       "      <td>debt_consolidation</td>\n",
       "      <td>Debt consolidation</td>\n",
       "      <td>CO</td>\n",
       "      <td>Feb-1990</td>\n",
       "      <td>f</td>\n",
       "      <td>Feb-2019</td>\n",
       "      <td>Individual</td>\n",
       "    </tr>\n",
       "    <tr>\n",
       "      <th>1</th>\n",
       "      <td>36 months</td>\n",
       "      <td>10+ years</td>\n",
       "      <td>RENT</td>\n",
       "      <td>Verified</td>\n",
       "      <td>other</td>\n",
       "      <td>Other</td>\n",
       "      <td>CA</td>\n",
       "      <td>Jul-2002</td>\n",
       "      <td>w</td>\n",
       "      <td>Mar-2019</td>\n",
       "      <td>Individual</td>\n",
       "    </tr>\n",
       "    <tr>\n",
       "      <th>2</th>\n",
       "      <td>36 months</td>\n",
       "      <td>&lt; 1 year</td>\n",
       "      <td>RENT</td>\n",
       "      <td>Not Verified</td>\n",
       "      <td>credit_card</td>\n",
       "      <td>Credit card refinancing</td>\n",
       "      <td>IL</td>\n",
       "      <td>Mar-1987</td>\n",
       "      <td>f</td>\n",
       "      <td>Mar-2017</td>\n",
       "      <td>Individual</td>\n",
       "    </tr>\n",
       "    <tr>\n",
       "      <th>3</th>\n",
       "      <td>36 months</td>\n",
       "      <td>7 years</td>\n",
       "      <td>MORTGAGE</td>\n",
       "      <td>Verified</td>\n",
       "      <td>debt_consolidation</td>\n",
       "      <td>Debt consolidation</td>\n",
       "      <td>TX</td>\n",
       "      <td>Mar-1990</td>\n",
       "      <td>w</td>\n",
       "      <td>Jan-2018</td>\n",
       "      <td>Individual</td>\n",
       "    </tr>\n",
       "    <tr>\n",
       "      <th>4</th>\n",
       "      <td>36 months</td>\n",
       "      <td>4 years</td>\n",
       "      <td>MORTGAGE</td>\n",
       "      <td>Source Verified</td>\n",
       "      <td>credit_card</td>\n",
       "      <td>Credit card refinancing</td>\n",
       "      <td>MI</td>\n",
       "      <td>Jun-2002</td>\n",
       "      <td>w</td>\n",
       "      <td>Mar-2019</td>\n",
       "      <td>Individual</td>\n",
       "    </tr>\n",
       "    <tr>\n",
       "      <th>...</th>\n",
       "      <td>...</td>\n",
       "      <td>...</td>\n",
       "      <td>...</td>\n",
       "      <td>...</td>\n",
       "      <td>...</td>\n",
       "      <td>...</td>\n",
       "      <td>...</td>\n",
       "      <td>...</td>\n",
       "      <td>...</td>\n",
       "      <td>...</td>\n",
       "      <td>...</td>\n",
       "    </tr>\n",
       "    <tr>\n",
       "      <th>816928</th>\n",
       "      <td>60 months</td>\n",
       "      <td>2 years</td>\n",
       "      <td>MORTGAGE</td>\n",
       "      <td>Source Verified</td>\n",
       "      <td>debt_consolidation</td>\n",
       "      <td>Debt consolidation</td>\n",
       "      <td>TX</td>\n",
       "      <td>Jan-1985</td>\n",
       "      <td>w</td>\n",
       "      <td>Nov-2016</td>\n",
       "      <td>Individual</td>\n",
       "    </tr>\n",
       "    <tr>\n",
       "      <th>816929</th>\n",
       "      <td>60 months</td>\n",
       "      <td>4 years</td>\n",
       "      <td>RENT</td>\n",
       "      <td>Source Verified</td>\n",
       "      <td>credit_card</td>\n",
       "      <td>Credit card refinancing</td>\n",
       "      <td>MO</td>\n",
       "      <td>Nov-2004</td>\n",
       "      <td>w</td>\n",
       "      <td>Mar-2019</td>\n",
       "      <td>Individual</td>\n",
       "    </tr>\n",
       "    <tr>\n",
       "      <th>816930</th>\n",
       "      <td>36 months</td>\n",
       "      <td>5 years</td>\n",
       "      <td>RENT</td>\n",
       "      <td>Source Verified</td>\n",
       "      <td>debt_consolidation</td>\n",
       "      <td>Debt consolidation</td>\n",
       "      <td>CT</td>\n",
       "      <td>Jul-2005</td>\n",
       "      <td>f</td>\n",
       "      <td>Mar-2019</td>\n",
       "      <td>Individual</td>\n",
       "    </tr>\n",
       "    <tr>\n",
       "      <th>816931</th>\n",
       "      <td>36 months</td>\n",
       "      <td>&lt; 1 year</td>\n",
       "      <td>MORTGAGE</td>\n",
       "      <td>Not Verified</td>\n",
       "      <td>debt_consolidation</td>\n",
       "      <td>Debt consolidation</td>\n",
       "      <td>WI</td>\n",
       "      <td>Oct-1997</td>\n",
       "      <td>w</td>\n",
       "      <td>Jan-2019</td>\n",
       "      <td>Individual</td>\n",
       "    </tr>\n",
       "    <tr>\n",
       "      <th>816933</th>\n",
       "      <td>36 months</td>\n",
       "      <td>&lt; 1 year</td>\n",
       "      <td>RENT</td>\n",
       "      <td>Verified</td>\n",
       "      <td>debt_consolidation</td>\n",
       "      <td>Debt consolidation</td>\n",
       "      <td>CA</td>\n",
       "      <td>Sep-2001</td>\n",
       "      <td>f</td>\n",
       "      <td>Mar-2019</td>\n",
       "      <td>Individual</td>\n",
       "    </tr>\n",
       "  </tbody>\n",
       "</table>\n",
       "<p>759499 rows × 11 columns</p>\n",
       "</div>"
      ],
      "text/plain": [
       "              term emp_length home_ownership verification_status  \\\n",
       "0        36 months  10+ years       MORTGAGE            Verified   \n",
       "1        36 months  10+ years           RENT            Verified   \n",
       "2        36 months   < 1 year           RENT        Not Verified   \n",
       "3        36 months    7 years       MORTGAGE            Verified   \n",
       "4        36 months    4 years       MORTGAGE     Source Verified   \n",
       "...            ...        ...            ...                 ...   \n",
       "816928   60 months    2 years       MORTGAGE     Source Verified   \n",
       "816929   60 months    4 years           RENT     Source Verified   \n",
       "816930   36 months    5 years           RENT     Source Verified   \n",
       "816931   36 months   < 1 year       MORTGAGE        Not Verified   \n",
       "816933   36 months   < 1 year           RENT            Verified   \n",
       "\n",
       "                   purpose                    title addr_state  \\\n",
       "0       debt_consolidation       Debt consolidation         CO   \n",
       "1                    other                    Other         CA   \n",
       "2              credit_card  Credit card refinancing         IL   \n",
       "3       debt_consolidation       Debt consolidation         TX   \n",
       "4              credit_card  Credit card refinancing         MI   \n",
       "...                    ...                      ...        ...   \n",
       "816928  debt_consolidation       Debt consolidation         TX   \n",
       "816929         credit_card  Credit card refinancing         MO   \n",
       "816930  debt_consolidation       Debt consolidation         CT   \n",
       "816931  debt_consolidation       Debt consolidation         WI   \n",
       "816933  debt_consolidation       Debt consolidation         CA   \n",
       "\n",
       "       earliest_cr_line initial_list_status last_credit_pull_d  \\\n",
       "0              Feb-1990                   f           Feb-2019   \n",
       "1              Jul-2002                   w           Mar-2019   \n",
       "2              Mar-1987                   f           Mar-2017   \n",
       "3              Mar-1990                   w           Jan-2018   \n",
       "4              Jun-2002                   w           Mar-2019   \n",
       "...                 ...                 ...                ...   \n",
       "816928         Jan-1985                   w           Nov-2016   \n",
       "816929         Nov-2004                   w           Mar-2019   \n",
       "816930         Jul-2005                   f           Mar-2019   \n",
       "816931         Oct-1997                   w           Jan-2019   \n",
       "816933         Sep-2001                   f           Mar-2019   \n",
       "\n",
       "       application_type  \n",
       "0            Individual  \n",
       "1            Individual  \n",
       "2            Individual  \n",
       "3            Individual  \n",
       "4            Individual  \n",
       "...                 ...  \n",
       "816928       Individual  \n",
       "816929       Individual  \n",
       "816930       Individual  \n",
       "816931       Individual  \n",
       "816933       Individual  \n",
       "\n",
       "[759499 rows x 11 columns]"
      ]
     },
     "execution_count": 11,
     "metadata": {},
     "output_type": "execute_result"
    }
   ],
   "source": [
    "object_cols = credit_data.select_dtypes(include=['object']).columns.to_list()\n",
    "credit_data[object_cols]"
   ]
  },
  {
   "cell_type": "code",
   "execution_count": 10,
   "metadata": {},
   "outputs": [],
   "source": [
    " ### These two columns are dates which might require processing to get signal so drop ..earliest_cr_line, last_credit_pull_d"
   ]
  },
  {
   "cell_type": "code",
   "execution_count": 14,
   "metadata": {},
   "outputs": [],
   "source": [
    "# credit_data.drop(['earliest_cr_line', 'last_credit_pull_d'], axis = 1, inplace = True)\n",
    "# object_cols = credit_data.select_dtypes(include=['object']).columns.to_list()\n",
    "# credit_data[object_cols]"
   ]
  },
  {
   "cell_type": "code",
   "execution_count": 14,
   "metadata": {},
   "outputs": [
    {
     "data": {
      "text/plain": [
       "term                       2\n",
       "emp_length                11\n",
       "home_ownership             6\n",
       "verification_status        3\n",
       "purpose                   14\n",
       "title                  38527\n",
       "addr_state                51\n",
       "initial_list_status        2\n",
       "application_type           2\n",
       "dtype: int64"
      ]
     },
     "execution_count": 14,
     "metadata": {},
     "output_type": "execute_result"
    }
   ],
   "source": [
    "#Number of unique categories\n",
    "credit_data[object_cols].nunique()"
   ]
  },
  {
   "cell_type": "markdown",
   "metadata": {},
   "source": [
    "##### The title and purpose column contain the same information but title has ~ 40K description therefore it will be dropped. \n",
    "**addr_state** column has 51 uniques which will result in 51 new columns. Lets remove for now"
   ]
  },
  {
   "cell_type": "code",
   "execution_count": 15,
   "metadata": {},
   "outputs": [
    {
     "data": {
      "text/html": [
       "<div>\n",
       "<style scoped>\n",
       "    .dataframe tbody tr th:only-of-type {\n",
       "        vertical-align: middle;\n",
       "    }\n",
       "\n",
       "    .dataframe tbody tr th {\n",
       "        vertical-align: top;\n",
       "    }\n",
       "\n",
       "    .dataframe thead th {\n",
       "        text-align: right;\n",
       "    }\n",
       "</style>\n",
       "<table border=\"1\" class=\"dataframe\">\n",
       "  <thead>\n",
       "    <tr style=\"text-align: right;\">\n",
       "      <th></th>\n",
       "      <th>term</th>\n",
       "      <th>emp_length</th>\n",
       "      <th>home_ownership</th>\n",
       "      <th>verification_status</th>\n",
       "      <th>purpose</th>\n",
       "      <th>initial_list_status</th>\n",
       "      <th>application_type</th>\n",
       "    </tr>\n",
       "  </thead>\n",
       "  <tbody>\n",
       "    <tr>\n",
       "      <th>0</th>\n",
       "      <td>36 months</td>\n",
       "      <td>10+ years</td>\n",
       "      <td>MORTGAGE</td>\n",
       "      <td>Verified</td>\n",
       "      <td>debt_consolidation</td>\n",
       "      <td>f</td>\n",
       "      <td>Individual</td>\n",
       "    </tr>\n",
       "    <tr>\n",
       "      <th>1</th>\n",
       "      <td>36 months</td>\n",
       "      <td>10+ years</td>\n",
       "      <td>RENT</td>\n",
       "      <td>Verified</td>\n",
       "      <td>other</td>\n",
       "      <td>w</td>\n",
       "      <td>Individual</td>\n",
       "    </tr>\n",
       "    <tr>\n",
       "      <th>2</th>\n",
       "      <td>36 months</td>\n",
       "      <td>&lt; 1 year</td>\n",
       "      <td>RENT</td>\n",
       "      <td>Not Verified</td>\n",
       "      <td>credit_card</td>\n",
       "      <td>f</td>\n",
       "      <td>Individual</td>\n",
       "    </tr>\n",
       "    <tr>\n",
       "      <th>3</th>\n",
       "      <td>36 months</td>\n",
       "      <td>7 years</td>\n",
       "      <td>MORTGAGE</td>\n",
       "      <td>Verified</td>\n",
       "      <td>debt_consolidation</td>\n",
       "      <td>w</td>\n",
       "      <td>Individual</td>\n",
       "    </tr>\n",
       "    <tr>\n",
       "      <th>4</th>\n",
       "      <td>36 months</td>\n",
       "      <td>4 years</td>\n",
       "      <td>MORTGAGE</td>\n",
       "      <td>Source Verified</td>\n",
       "      <td>credit_card</td>\n",
       "      <td>w</td>\n",
       "      <td>Individual</td>\n",
       "    </tr>\n",
       "    <tr>\n",
       "      <th>...</th>\n",
       "      <td>...</td>\n",
       "      <td>...</td>\n",
       "      <td>...</td>\n",
       "      <td>...</td>\n",
       "      <td>...</td>\n",
       "      <td>...</td>\n",
       "      <td>...</td>\n",
       "    </tr>\n",
       "    <tr>\n",
       "      <th>816928</th>\n",
       "      <td>60 months</td>\n",
       "      <td>2 years</td>\n",
       "      <td>MORTGAGE</td>\n",
       "      <td>Source Verified</td>\n",
       "      <td>debt_consolidation</td>\n",
       "      <td>w</td>\n",
       "      <td>Individual</td>\n",
       "    </tr>\n",
       "    <tr>\n",
       "      <th>816929</th>\n",
       "      <td>60 months</td>\n",
       "      <td>4 years</td>\n",
       "      <td>RENT</td>\n",
       "      <td>Source Verified</td>\n",
       "      <td>credit_card</td>\n",
       "      <td>w</td>\n",
       "      <td>Individual</td>\n",
       "    </tr>\n",
       "    <tr>\n",
       "      <th>816930</th>\n",
       "      <td>36 months</td>\n",
       "      <td>5 years</td>\n",
       "      <td>RENT</td>\n",
       "      <td>Source Verified</td>\n",
       "      <td>debt_consolidation</td>\n",
       "      <td>f</td>\n",
       "      <td>Individual</td>\n",
       "    </tr>\n",
       "    <tr>\n",
       "      <th>816931</th>\n",
       "      <td>36 months</td>\n",
       "      <td>&lt; 1 year</td>\n",
       "      <td>MORTGAGE</td>\n",
       "      <td>Not Verified</td>\n",
       "      <td>debt_consolidation</td>\n",
       "      <td>w</td>\n",
       "      <td>Individual</td>\n",
       "    </tr>\n",
       "    <tr>\n",
       "      <th>816933</th>\n",
       "      <td>36 months</td>\n",
       "      <td>&lt; 1 year</td>\n",
       "      <td>RENT</td>\n",
       "      <td>Verified</td>\n",
       "      <td>debt_consolidation</td>\n",
       "      <td>f</td>\n",
       "      <td>Individual</td>\n",
       "    </tr>\n",
       "  </tbody>\n",
       "</table>\n",
       "<p>759499 rows × 7 columns</p>\n",
       "</div>"
      ],
      "text/plain": [
       "              term emp_length home_ownership verification_status  \\\n",
       "0        36 months  10+ years       MORTGAGE            Verified   \n",
       "1        36 months  10+ years           RENT            Verified   \n",
       "2        36 months   < 1 year           RENT        Not Verified   \n",
       "3        36 months    7 years       MORTGAGE            Verified   \n",
       "4        36 months    4 years       MORTGAGE     Source Verified   \n",
       "...            ...        ...            ...                 ...   \n",
       "816928   60 months    2 years       MORTGAGE     Source Verified   \n",
       "816929   60 months    4 years           RENT     Source Verified   \n",
       "816930   36 months    5 years           RENT     Source Verified   \n",
       "816931   36 months   < 1 year       MORTGAGE        Not Verified   \n",
       "816933   36 months   < 1 year           RENT            Verified   \n",
       "\n",
       "                   purpose initial_list_status application_type  \n",
       "0       debt_consolidation                   f       Individual  \n",
       "1                    other                   w       Individual  \n",
       "2              credit_card                   f       Individual  \n",
       "3       debt_consolidation                   w       Individual  \n",
       "4              credit_card                   w       Individual  \n",
       "...                    ...                 ...              ...  \n",
       "816928  debt_consolidation                   w       Individual  \n",
       "816929         credit_card                   w       Individual  \n",
       "816930  debt_consolidation                   f       Individual  \n",
       "816931  debt_consolidation                   w       Individual  \n",
       "816933  debt_consolidation                   f       Individual  \n",
       "\n",
       "[759499 rows x 7 columns]"
      ]
     },
     "execution_count": 15,
     "metadata": {},
     "output_type": "execute_result"
    }
   ],
   "source": [
    "credit_data.drop(['title', 'addr_state'], axis = 1, inplace = True)\n",
    "object_cols = credit_data.select_dtypes(include=['object']).columns.to_list()\n",
    "credit_data[object_cols]"
   ]
  },
  {
   "cell_type": "markdown",
   "metadata": {},
   "source": [
    "Emp temp column is a string but could be converted to numbers and then integer because it is ordinal. 10 years of working is higher than\n",
    "2.\n",
    "Clean the column and covert to float"
   ]
  },
  {
   "cell_type": "code",
   "execution_count": 16,
   "metadata": {},
   "outputs": [],
   "source": [
    "# replace < 1 year with 0.5 i.e. six months\n",
    "mapping_dict = {\n",
    "    \"emp_length\": {\n",
    "        \"10+ years\": 10,\n",
    "        \"9 years\": 9,\n",
    "        \"8 years\": 8,\n",
    "        \"7 years\": 7,\n",
    "        \"6 years\": 6,\n",
    "        \"5 years\": 5,\n",
    "        \"4 years\": 4,\n",
    "        \"3 years\": 3,\n",
    "        \"2 years\": 2,\n",
    "        \"1 year\": 1,\n",
    "        \"< 1 year\": 0.5,\n",
    "        \"n/a\": 0\n",
    "    }\n",
    "}"
   ]
  },
  {
   "cell_type": "code",
   "execution_count": 17,
   "metadata": {},
   "outputs": [],
   "source": [
    "credit_data = credit_data.replace(mapping_dict)"
   ]
  },
  {
   "cell_type": "code",
   "execution_count": 18,
   "metadata": {},
   "outputs": [
    {
     "name": "stdout",
     "output_type": "stream",
     "text": [
      "10.0    264855\n",
      "2.0      73239\n",
      "0.5      64816\n",
      "3.0      64416\n",
      "1.0      52722\n",
      "5.0      50727\n",
      "4.0      48237\n",
      "6.0      37524\n",
      "8.0      36477\n",
      "7.0      35816\n",
      "9.0      30670\n",
      "Name: emp_length, dtype: int64\n"
     ]
    },
    {
     "data": {
      "text/html": [
       "<div>\n",
       "<style scoped>\n",
       "    .dataframe tbody tr th:only-of-type {\n",
       "        vertical-align: middle;\n",
       "    }\n",
       "\n",
       "    .dataframe tbody tr th {\n",
       "        vertical-align: top;\n",
       "    }\n",
       "\n",
       "    .dataframe thead th {\n",
       "        text-align: right;\n",
       "    }\n",
       "</style>\n",
       "<table border=\"1\" class=\"dataframe\">\n",
       "  <thead>\n",
       "    <tr style=\"text-align: right;\">\n",
       "      <th></th>\n",
       "      <th>term</th>\n",
       "      <th>home_ownership</th>\n",
       "      <th>verification_status</th>\n",
       "      <th>purpose</th>\n",
       "      <th>initial_list_status</th>\n",
       "      <th>application_type</th>\n",
       "    </tr>\n",
       "  </thead>\n",
       "  <tbody>\n",
       "    <tr>\n",
       "      <th>0</th>\n",
       "      <td>36 months</td>\n",
       "      <td>MORTGAGE</td>\n",
       "      <td>Verified</td>\n",
       "      <td>debt_consolidation</td>\n",
       "      <td>f</td>\n",
       "      <td>Individual</td>\n",
       "    </tr>\n",
       "    <tr>\n",
       "      <th>1</th>\n",
       "      <td>36 months</td>\n",
       "      <td>RENT</td>\n",
       "      <td>Verified</td>\n",
       "      <td>other</td>\n",
       "      <td>w</td>\n",
       "      <td>Individual</td>\n",
       "    </tr>\n",
       "    <tr>\n",
       "      <th>2</th>\n",
       "      <td>36 months</td>\n",
       "      <td>RENT</td>\n",
       "      <td>Not Verified</td>\n",
       "      <td>credit_card</td>\n",
       "      <td>f</td>\n",
       "      <td>Individual</td>\n",
       "    </tr>\n",
       "    <tr>\n",
       "      <th>3</th>\n",
       "      <td>36 months</td>\n",
       "      <td>MORTGAGE</td>\n",
       "      <td>Verified</td>\n",
       "      <td>debt_consolidation</td>\n",
       "      <td>w</td>\n",
       "      <td>Individual</td>\n",
       "    </tr>\n",
       "    <tr>\n",
       "      <th>4</th>\n",
       "      <td>36 months</td>\n",
       "      <td>MORTGAGE</td>\n",
       "      <td>Source Verified</td>\n",
       "      <td>credit_card</td>\n",
       "      <td>w</td>\n",
       "      <td>Individual</td>\n",
       "    </tr>\n",
       "    <tr>\n",
       "      <th>...</th>\n",
       "      <td>...</td>\n",
       "      <td>...</td>\n",
       "      <td>...</td>\n",
       "      <td>...</td>\n",
       "      <td>...</td>\n",
       "      <td>...</td>\n",
       "    </tr>\n",
       "    <tr>\n",
       "      <th>816928</th>\n",
       "      <td>60 months</td>\n",
       "      <td>MORTGAGE</td>\n",
       "      <td>Source Verified</td>\n",
       "      <td>debt_consolidation</td>\n",
       "      <td>w</td>\n",
       "      <td>Individual</td>\n",
       "    </tr>\n",
       "    <tr>\n",
       "      <th>816929</th>\n",
       "      <td>60 months</td>\n",
       "      <td>RENT</td>\n",
       "      <td>Source Verified</td>\n",
       "      <td>credit_card</td>\n",
       "      <td>w</td>\n",
       "      <td>Individual</td>\n",
       "    </tr>\n",
       "    <tr>\n",
       "      <th>816930</th>\n",
       "      <td>36 months</td>\n",
       "      <td>RENT</td>\n",
       "      <td>Source Verified</td>\n",
       "      <td>debt_consolidation</td>\n",
       "      <td>f</td>\n",
       "      <td>Individual</td>\n",
       "    </tr>\n",
       "    <tr>\n",
       "      <th>816931</th>\n",
       "      <td>36 months</td>\n",
       "      <td>MORTGAGE</td>\n",
       "      <td>Not Verified</td>\n",
       "      <td>debt_consolidation</td>\n",
       "      <td>w</td>\n",
       "      <td>Individual</td>\n",
       "    </tr>\n",
       "    <tr>\n",
       "      <th>816933</th>\n",
       "      <td>36 months</td>\n",
       "      <td>RENT</td>\n",
       "      <td>Verified</td>\n",
       "      <td>debt_consolidation</td>\n",
       "      <td>f</td>\n",
       "      <td>Individual</td>\n",
       "    </tr>\n",
       "  </tbody>\n",
       "</table>\n",
       "<p>759499 rows × 6 columns</p>\n",
       "</div>"
      ],
      "text/plain": [
       "              term home_ownership verification_status             purpose  \\\n",
       "0        36 months       MORTGAGE            Verified  debt_consolidation   \n",
       "1        36 months           RENT            Verified               other   \n",
       "2        36 months           RENT        Not Verified         credit_card   \n",
       "3        36 months       MORTGAGE            Verified  debt_consolidation   \n",
       "4        36 months       MORTGAGE     Source Verified         credit_card   \n",
       "...            ...            ...                 ...                 ...   \n",
       "816928   60 months       MORTGAGE     Source Verified  debt_consolidation   \n",
       "816929   60 months           RENT     Source Verified         credit_card   \n",
       "816930   36 months           RENT     Source Verified  debt_consolidation   \n",
       "816931   36 months       MORTGAGE        Not Verified  debt_consolidation   \n",
       "816933   36 months           RENT            Verified  debt_consolidation   \n",
       "\n",
       "       initial_list_status application_type  \n",
       "0                        f       Individual  \n",
       "1                        w       Individual  \n",
       "2                        f       Individual  \n",
       "3                        w       Individual  \n",
       "4                        w       Individual  \n",
       "...                    ...              ...  \n",
       "816928                   w       Individual  \n",
       "816929                   w       Individual  \n",
       "816930                   f       Individual  \n",
       "816931                   w       Individual  \n",
       "816933                   f       Individual  \n",
       "\n",
       "[759499 rows x 6 columns]"
      ]
     },
     "execution_count": 18,
     "metadata": {},
     "output_type": "execute_result"
    }
   ],
   "source": [
    "credit_data.emp_length = pd.to_numeric(credit_data.emp_length)\n",
    "object_cols = credit_data.select_dtypes(include=['object']).columns.to_list()\n",
    "print(credit_data.emp_length.value_counts())\n",
    "credit_data[object_cols]"
   ]
  },
  {
   "cell_type": "code",
   "execution_count": 16,
   "metadata": {},
   "outputs": [
    {
     "data": {
      "text/plain": [
       "loan_amnt                      1526\n",
       "term                              2\n",
       "int_rate                        607\n",
       "installment                   70985\n",
       "emp_length                       11\n",
       "home_ownership                    6\n",
       "annual_inc                    39331\n",
       "verification_status               3\n",
       "loan_status                       2\n",
       "purpose                          14\n",
       "dti                            5856\n",
       "delinq_2yrs                      27\n",
       "inq_last_6mths                    9\n",
       "open_acc                         77\n",
       "pub_rec                          33\n",
       "revol_bal                     70410\n",
       "revol_util                     1288\n",
       "total_acc                       133\n",
       "initial_list_status               2\n",
       "collections_12_mths_ex_med       13\n",
       "application_type                  2\n",
       "acc_now_delinq                    8\n",
       "chargeoff_within_12_mths         11\n",
       "delinq_amnt                    1359\n",
       "pub_rec_bankruptcies             11\n",
       "tax_liens                        31\n",
       "dtype: int64"
      ]
     },
     "execution_count": 16,
     "metadata": {},
     "output_type": "execute_result"
    }
   ],
   "source": [
    "credit_data.nunique()"
   ]
  },
  {
   "cell_type": "code",
   "execution_count": 21,
   "metadata": {},
   "outputs": [],
   "source": [
    "# dummify categorical variables\n",
    "\n",
    "cols_to_dummify = ['term', 'home_ownership','verification_status', 'purpose', 'initial_list_status','application_type']"
   ]
  },
  {
   "cell_type": "code",
   "execution_count": 22,
   "metadata": {},
   "outputs": [
    {
     "ename": "KeyError",
     "evalue": "\"None of [Index(['term', 'home_ownership', 'verification_status', 'purpose',\\n       'initial_list_status', 'application_type'],\\n      dtype='object')] are in the [columns]\"",
     "output_type": "error",
     "traceback": [
      "\u001b[0;31m---------------------------------------------------------------------------\u001b[0m",
      "\u001b[0;31mKeyError\u001b[0m                                  Traceback (most recent call last)",
      "\u001b[0;32m<ipython-input-22-8c2fd4175f0d>\u001b[0m in \u001b[0;36m<module>\u001b[0;34m\u001b[0m\n\u001b[0;32m----> 1\u001b[0;31m \u001b[0mcredit_data\u001b[0m \u001b[0;34m=\u001b[0m \u001b[0mpd\u001b[0m\u001b[0;34m.\u001b[0m\u001b[0mconcat\u001b[0m\u001b[0;34m(\u001b[0m\u001b[0;34m[\u001b[0m\u001b[0mcredit_data\u001b[0m\u001b[0;34m,\u001b[0m\u001b[0mpd\u001b[0m\u001b[0;34m.\u001b[0m\u001b[0mget_dummies\u001b[0m\u001b[0;34m(\u001b[0m\u001b[0mcredit_data\u001b[0m\u001b[0;34m[\u001b[0m\u001b[0mcols_to_dummify\u001b[0m\u001b[0;34m]\u001b[0m\u001b[0;34m)\u001b[0m\u001b[0;34m]\u001b[0m\u001b[0;34m,\u001b[0m \u001b[0maxis\u001b[0m \u001b[0;34m=\u001b[0m \u001b[0;36m1\u001b[0m\u001b[0;34m)\u001b[0m\u001b[0;34m\u001b[0m\u001b[0;34m\u001b[0m\u001b[0m\n\u001b[0m\u001b[1;32m      2\u001b[0m \u001b[0mcredit_data\u001b[0m\u001b[0;34m.\u001b[0m\u001b[0mdrop\u001b[0m\u001b[0;34m(\u001b[0m\u001b[0mcols_to_dummify\u001b[0m\u001b[0;34m,\u001b[0m\u001b[0maxis\u001b[0m \u001b[0;34m=\u001b[0m \u001b[0;36m1\u001b[0m\u001b[0;34m,\u001b[0m \u001b[0minplace\u001b[0m \u001b[0;34m=\u001b[0m \u001b[0;32mTrue\u001b[0m\u001b[0;34m)\u001b[0m\u001b[0;34m\u001b[0m\u001b[0;34m\u001b[0m\u001b[0m\n\u001b[1;32m      3\u001b[0m \u001b[0mcredit_data\u001b[0m\u001b[0;34m.\u001b[0m\u001b[0mhead\u001b[0m\u001b[0;34m(\u001b[0m\u001b[0;34m)\u001b[0m\u001b[0;34m\u001b[0m\u001b[0;34m\u001b[0m\u001b[0m\n",
      "\u001b[0;32m~/conda/envs/python/lib/python3.6/site-packages/pandas/core/frame.py\u001b[0m in \u001b[0;36m__getitem__\u001b[0;34m(self, key)\u001b[0m\n\u001b[1;32m   2804\u001b[0m             \u001b[0;32mif\u001b[0m \u001b[0mis_iterator\u001b[0m\u001b[0;34m(\u001b[0m\u001b[0mkey\u001b[0m\u001b[0;34m)\u001b[0m\u001b[0;34m:\u001b[0m\u001b[0;34m\u001b[0m\u001b[0;34m\u001b[0m\u001b[0m\n\u001b[1;32m   2805\u001b[0m                 \u001b[0mkey\u001b[0m \u001b[0;34m=\u001b[0m \u001b[0mlist\u001b[0m\u001b[0;34m(\u001b[0m\u001b[0mkey\u001b[0m\u001b[0;34m)\u001b[0m\u001b[0;34m\u001b[0m\u001b[0;34m\u001b[0m\u001b[0m\n\u001b[0;32m-> 2806\u001b[0;31m             \u001b[0mindexer\u001b[0m \u001b[0;34m=\u001b[0m \u001b[0mself\u001b[0m\u001b[0;34m.\u001b[0m\u001b[0mloc\u001b[0m\u001b[0;34m.\u001b[0m\u001b[0m_get_listlike_indexer\u001b[0m\u001b[0;34m(\u001b[0m\u001b[0mkey\u001b[0m\u001b[0;34m,\u001b[0m \u001b[0maxis\u001b[0m\u001b[0;34m=\u001b[0m\u001b[0;36m1\u001b[0m\u001b[0;34m,\u001b[0m \u001b[0mraise_missing\u001b[0m\u001b[0;34m=\u001b[0m\u001b[0;32mTrue\u001b[0m\u001b[0;34m)\u001b[0m\u001b[0;34m[\u001b[0m\u001b[0;36m1\u001b[0m\u001b[0;34m]\u001b[0m\u001b[0;34m\u001b[0m\u001b[0;34m\u001b[0m\u001b[0m\n\u001b[0m\u001b[1;32m   2807\u001b[0m \u001b[0;34m\u001b[0m\u001b[0m\n\u001b[1;32m   2808\u001b[0m         \u001b[0;31m# take() does not accept boolean indexers\u001b[0m\u001b[0;34m\u001b[0m\u001b[0;34m\u001b[0m\u001b[0;34m\u001b[0m\u001b[0m\n",
      "\u001b[0;32m~/conda/envs/python/lib/python3.6/site-packages/pandas/core/indexing.py\u001b[0m in \u001b[0;36m_get_listlike_indexer\u001b[0;34m(self, key, axis, raise_missing)\u001b[0m\n\u001b[1;32m   1551\u001b[0m \u001b[0;34m\u001b[0m\u001b[0m\n\u001b[1;32m   1552\u001b[0m         self._validate_read_indexer(\n\u001b[0;32m-> 1553\u001b[0;31m             \u001b[0mkeyarr\u001b[0m\u001b[0;34m,\u001b[0m \u001b[0mindexer\u001b[0m\u001b[0;34m,\u001b[0m \u001b[0mo\u001b[0m\u001b[0;34m.\u001b[0m\u001b[0m_get_axis_number\u001b[0m\u001b[0;34m(\u001b[0m\u001b[0maxis\u001b[0m\u001b[0;34m)\u001b[0m\u001b[0;34m,\u001b[0m \u001b[0mraise_missing\u001b[0m\u001b[0;34m=\u001b[0m\u001b[0mraise_missing\u001b[0m\u001b[0;34m\u001b[0m\u001b[0;34m\u001b[0m\u001b[0m\n\u001b[0m\u001b[1;32m   1554\u001b[0m         )\n\u001b[1;32m   1555\u001b[0m         \u001b[0;32mreturn\u001b[0m \u001b[0mkeyarr\u001b[0m\u001b[0;34m,\u001b[0m \u001b[0mindexer\u001b[0m\u001b[0;34m\u001b[0m\u001b[0;34m\u001b[0m\u001b[0m\n",
      "\u001b[0;32m~/conda/envs/python/lib/python3.6/site-packages/pandas/core/indexing.py\u001b[0m in \u001b[0;36m_validate_read_indexer\u001b[0;34m(self, key, indexer, axis, raise_missing)\u001b[0m\n\u001b[1;32m   1638\u001b[0m             \u001b[0;32mif\u001b[0m \u001b[0mmissing\u001b[0m \u001b[0;34m==\u001b[0m \u001b[0mlen\u001b[0m\u001b[0;34m(\u001b[0m\u001b[0mindexer\u001b[0m\u001b[0;34m)\u001b[0m\u001b[0;34m:\u001b[0m\u001b[0;34m\u001b[0m\u001b[0;34m\u001b[0m\u001b[0m\n\u001b[1;32m   1639\u001b[0m                 \u001b[0maxis_name\u001b[0m \u001b[0;34m=\u001b[0m \u001b[0mself\u001b[0m\u001b[0;34m.\u001b[0m\u001b[0mobj\u001b[0m\u001b[0;34m.\u001b[0m\u001b[0m_get_axis_name\u001b[0m\u001b[0;34m(\u001b[0m\u001b[0maxis\u001b[0m\u001b[0;34m)\u001b[0m\u001b[0;34m\u001b[0m\u001b[0;34m\u001b[0m\u001b[0m\n\u001b[0;32m-> 1640\u001b[0;31m                 \u001b[0;32mraise\u001b[0m \u001b[0mKeyError\u001b[0m\u001b[0;34m(\u001b[0m\u001b[0;34mf\"None of [{key}] are in the [{axis_name}]\"\u001b[0m\u001b[0;34m)\u001b[0m\u001b[0;34m\u001b[0m\u001b[0;34m\u001b[0m\u001b[0m\n\u001b[0m\u001b[1;32m   1641\u001b[0m \u001b[0;34m\u001b[0m\u001b[0m\n\u001b[1;32m   1642\u001b[0m             \u001b[0;31m# We (temporarily) allow for some missing keys with .loc, except in\u001b[0m\u001b[0;34m\u001b[0m\u001b[0;34m\u001b[0m\u001b[0;34m\u001b[0m\u001b[0m\n",
      "\u001b[0;31mKeyError\u001b[0m: \"None of [Index(['term', 'home_ownership', 'verification_status', 'purpose',\\n       'initial_list_status', 'application_type'],\\n      dtype='object')] are in the [columns]\""
     ]
    }
   ],
   "source": [
    "credit_data = pd.concat([credit_data,pd.get_dummies(credit_data[cols_to_dummify])], axis = 1)\n",
    "credit_data.drop(cols_to_dummify,axis = 1, inplace = True)\n",
    "credit_data.head()"
   ]
  },
  {
   "cell_type": "code",
   "execution_count": 23,
   "metadata": {},
   "outputs": [
    {
     "name": "stdout",
     "output_type": "stream",
     "text": [
      "49\n",
      "loan_status removed \n",
      " 48\n"
     ]
    }
   ],
   "source": [
    "features = credit_data.columns.tolist()\n",
    "print(len(features))\n",
    "features.remove('loan_status')\n",
    "print('loan_status removed', '\\n',len(features))\n"
   ]
  },
  {
   "cell_type": "markdown",
   "metadata": {},
   "source": [
    "### Prediction - logistic regression without balancing"
   ]
  },
  {
   "cell_type": "code",
   "execution_count": 36,
   "metadata": {},
   "outputs": [
    {
     "name": "stderr",
     "output_type": "stream",
     "text": [
      "/home/jupyterlab/conda/envs/python/lib/python3.6/site-packages/sklearn/linear_model/logistic.py:433: FutureWarning: Default solver will be changed to 'lbfgs' in 0.22. Specify a solver to silence this warning.\n",
      "  FutureWarning)\n",
      "/home/jupyterlab/conda/envs/python/lib/python3.6/site-packages/sklearn/linear_model/logistic.py:433: FutureWarning: Default solver will be changed to 'lbfgs' in 0.22. Specify a solver to silence this warning.\n",
      "  FutureWarning)\n",
      "/home/jupyterlab/conda/envs/python/lib/python3.6/site-packages/sklearn/linear_model/logistic.py:433: FutureWarning: Default solver will be changed to 'lbfgs' in 0.22. Specify a solver to silence this warning.\n",
      "  FutureWarning)\n"
     ]
    },
    {
     "name": "stdout",
     "output_type": "stream",
     "text": [
      "0.030501748202368617\n",
      "total_time:  0:00:02.263520\n"
     ]
    }
   ],
   "source": [
    "start = timeit.timeit()\n",
    "now = dt.datetime.now()\n",
    "lr = LogisticRegression()\n",
    "predictions=cross_val_predict(lr, credit_data[features], credit_data[target], cv=3)\n",
    "end = timeit.timeit()\n",
    "later =dt.datetime.now()\n",
    "print(end-start)\n",
    "print('total_time: ',(later - now)/60)"
   ]
  },
  {
   "cell_type": "code",
   "execution_count": 37,
   "metadata": {},
   "outputs": [
    {
     "data": {
      "text/plain": [
       "1    0.99824\n",
       "0    0.00176\n",
       "dtype: float64"
      ]
     },
     "execution_count": 37,
     "metadata": {},
     "output_type": "execute_result"
    }
   ],
   "source": [
    "# predictions\n",
    "predictions = pd.Series(predictions)\n",
    "predictions.value_counts(normalize = True)"
   ]
  },
  {
   "cell_type": "code",
   "execution_count": 43,
   "metadata": {},
   "outputs": [],
   "source": [
    "tn, fp, fn, tp= confusion_matrix(credit_data[target], predictions).ravel()\n",
    " "
   ]
  },
  {
   "cell_type": "code",
   "execution_count": 46,
   "metadata": {},
   "outputs": [
    {
     "name": "stdout",
     "output_type": "stream",
     "text": [
      "precision:    0.8057657862040039 \n",
      " recall:    0.8057657862040039\n"
     ]
    }
   ],
   "source": [
    "# predictions = pd.Series(predictions)\n",
    "# predictions.value_counts(normalize = True)\n",
    "# tp = len(predictions[(predictions == 1) & credit_data[credit_data.loan_status ==1]])\n",
    "# fp = len(predictions[(predictions == 1) & credit_data[credit_data.loan_status ==0]])\n",
    "# fn = len(predictions[(predictions == 0) & credit_data[credit_data.loan_status ==1]])\n",
    "# tn = len(predictions[(predictions == 0) & credit_data[credit_data.loan_status ==0]])\n",
    "\n",
    "precision = tp/(tp+fp)\n",
    "recall = tp/(tp+fp)\n",
    "print('precision:   ', precision,'\\n', 'recall:   ', recall)"
   ]
  },
  {
   "cell_type": "markdown",
   "metadata": {},
   "source": [
    "## Balance classes"
   ]
  },
  {
   "cell_type": "code",
   "execution_count": 47,
   "metadata": {},
   "outputs": [
    {
     "name": "stderr",
     "output_type": "stream",
     "text": [
      "/home/jupyterlab/conda/envs/python/lib/python3.6/site-packages/sklearn/linear_model/logistic.py:433: FutureWarning: Default solver will be changed to 'lbfgs' in 0.22. Specify a solver to silence this warning.\n",
      "  FutureWarning)\n",
      "/home/jupyterlab/conda/envs/python/lib/python3.6/site-packages/sklearn/linear_model/logistic.py:433: FutureWarning: Default solver will be changed to 'lbfgs' in 0.22. Specify a solver to silence this warning.\n",
      "  FutureWarning)\n",
      "/home/jupyterlab/conda/envs/python/lib/python3.6/site-packages/sklearn/linear_model/logistic.py:433: FutureWarning: Default solver will be changed to 'lbfgs' in 0.22. Specify a solver to silence this warning.\n",
      "  FutureWarning)\n"
     ]
    },
    {
     "name": "stdout",
     "output_type": "stream",
     "text": [
      "0.0009194319136440754\n",
      "total_time:  0:00:03.763621\n",
      "1    0.616799\n",
      "0    0.383201\n",
      "dtype: float64\n",
      "precision:    0.8808132212492902 \n",
      " recall:    0.8808132212492902\n"
     ]
    }
   ],
   "source": [
    "start = timeit.timeit()\n",
    "now = dt.datetime.now()\n",
    "lr = LogisticRegression(class_weight='balanced')\n",
    "predictions=cross_val_predict(lr, credit_data[features], credit_data[target], cv=3)\n",
    "end = timeit.timeit()\n",
    "later =dt.datetime.now()\n",
    "print(end-start)\n",
    "print('total_time: ',(later - now)/60)\n",
    "\n",
    "predictions = pd.Series(predictions)\n",
    "print(predictions.value_counts(normalize = True))\n",
    "tn, fp, fn, tp= confusion_matrix(credit_data[target], predictions).ravel()\n"
   ]
  },
  {
   "cell_type": "code",
   "execution_count": 48,
   "metadata": {},
   "outputs": [
    {
     "name": "stdout",
     "output_type": "stream",
     "text": [
      "precision:    0.8808132212492902 \n",
      " recall:    0.6745209071337145\n"
     ]
    }
   ],
   "source": [
    "precision = tp/(tp+fp)\n",
    "recall = tp/(tp+fn)\n",
    "print('precision:   ', precision,'\\n', 'recall:   ', recall)"
   ]
  },
  {
   "cell_type": "code",
   "execution_count": null,
   "metadata": {},
   "outputs": [],
   "source": [
    "# 5 fold cross val"
   ]
  },
  {
   "cell_type": "code",
   "execution_count": 49,
   "metadata": {},
   "outputs": [
    {
     "name": "stderr",
     "output_type": "stream",
     "text": [
      "/home/jupyterlab/conda/envs/python/lib/python3.6/site-packages/sklearn/linear_model/logistic.py:433: FutureWarning: Default solver will be changed to 'lbfgs' in 0.22. Specify a solver to silence this warning.\n",
      "  FutureWarning)\n",
      "/home/jupyterlab/conda/envs/python/lib/python3.6/site-packages/sklearn/linear_model/logistic.py:433: FutureWarning: Default solver will be changed to 'lbfgs' in 0.22. Specify a solver to silence this warning.\n",
      "  FutureWarning)\n",
      "/home/jupyterlab/conda/envs/python/lib/python3.6/site-packages/sklearn/linear_model/logistic.py:433: FutureWarning: Default solver will be changed to 'lbfgs' in 0.22. Specify a solver to silence this warning.\n",
      "  FutureWarning)\n"
     ]
    },
    {
     "name": "stdout",
     "output_type": "stream",
     "text": [
      "0.002538834000006318\n",
      "total_time:  0:03:40.220142 0:00:03.670336\n",
      "1    0.616799\n",
      "0    0.383201\n",
      "dtype: float64\n",
      "precision:    0.8808132212492902 \n",
      " recall:    0.6745209071337145\n"
     ]
    }
   ],
   "source": [
    "start = timeit.timeit()\n",
    "now = dt.datetime.now()\n",
    "lr = LogisticRegression(class_weight='balanced')\n",
    "predictions=cross_val_predict(lr, credit_data[features], credit_data[target], cv=3)\n",
    "end = timeit.timeit()\n",
    "later =dt.datetime.now()\n",
    "print(end-start)\n",
    "print('total_time: ',(later - now),(later - now)/60)\n",
    "\n",
    "predictions = pd.Series(predictions)\n",
    "print(predictions.value_counts(normalize = True))\n",
    "tn, fp, fn, tp= confusion_matrix(credit_data[target], predictions).ravel()\n",
    "precision = tp/(tp+fp)\n",
    "recall = tp/(tp+fn)\n",
    "print('precision:   ', precision,'\\n', 'recall:   ', recall)"
   ]
  },
  {
   "cell_type": "code",
   "execution_count": 52,
   "metadata": {},
   "outputs": [
    {
     "data": {
      "text/plain": [
       "0.6221560533261149"
      ]
     },
     "execution_count": 52,
     "metadata": {},
     "output_type": "execute_result"
    }
   ],
   "source": [
    "start = timeit.timeit()\n",
    "now = dt.datetime.now()\n",
    "lr = LogisticRegression(class_weight='balanced')\n",
    "predictions=cross_val_predict(lr, credit_data[features], credit_data[target], cv=3)\n",
    "end = timeit.timeit()\n",
    "later =dt.datetime.now()\n",
    "print(end-start)\n",
    "print('total_time: ',(later - now),(later - now)/60)\n",
    "\n",
    "predictions = pd.Series(predictions)\n",
    "print(predictions.value_counts(normalize = True))\n",
    "tn, fp, fn, tp= confusion_matrix(credit_data[target], predictions).ravel()\n",
    "precision = tp/(tp+fp)\n",
    "recall = tp/(tp+fn)\n",
    "print('precision:   ', precision,'\\n', 'recall:   ', recall)"
   ]
  },
  {
   "cell_type": "code",
   "execution_count": 25,
   "metadata": {},
   "outputs": [
    {
     "name": "stderr",
     "output_type": "stream",
     "text": [
      "/home/jupyterlab/conda/envs/python/lib/python3.6/site-packages/sklearn/linear_model/logistic.py:433: FutureWarning: Default solver will be changed to 'lbfgs' in 0.22. Specify a solver to silence this warning.\n",
      "  FutureWarning)\n",
      "/home/jupyterlab/conda/envs/python/lib/python3.6/site-packages/sklearn/linear_model/logistic.py:433: FutureWarning: Default solver will be changed to 'lbfgs' in 0.22. Specify a solver to silence this warning.\n",
      "  FutureWarning)\n",
      "/home/jupyterlab/conda/envs/python/lib/python3.6/site-packages/sklearn/linear_model/logistic.py:433: FutureWarning: Default solver will be changed to 'lbfgs' in 0.22. Specify a solver to silence this warning.\n",
      "  FutureWarning)\n",
      "/home/jupyterlab/conda/envs/python/lib/python3.6/site-packages/sklearn/linear_model/logistic.py:433: FutureWarning: Default solver will be changed to 'lbfgs' in 0.22. Specify a solver to silence this warning.\n",
      "  FutureWarning)\n"
     ]
    },
    {
     "name": "stdout",
     "output_type": "stream",
     "text": [
      "0.007561465026810765\n",
      "total_time:  0:06:53.382195 0:00:06.889703\n",
      "1    0.606084\n",
      "0    0.393916\n",
      "dtype: float64\n",
      "precision:    0.882008168230796 \n",
      " recall:    0.6637023910914801\n"
     ]
    }
   ],
   "source": [
    "##. \n",
    "\n",
    "start = timeit.timeit()\n",
    "now = dt.datetime.now()\n",
    "lr = LogisticRegression(class_weight='balanced')\n",
    "predictions=cross_val_predict(lr, credit_data[features], credit_data[target], cv=4)\n",
    "end = timeit.timeit()\n",
    "later =dt.datetime.now()\n",
    "print(end-start)\n",
    "print('total_time: ',(later - now),(later - now)/60)\n",
    "\n",
    "predictions = pd.Series(predictions)\n",
    "print(predictions.value_counts(normalize = True))\n",
    "tn, fp, fn, tp= confusion_matrix(credit_data[target], predictions).ravel()\n",
    "precision = tp/(tp+fp)\n",
    "recall = tp/(tp+fn)\n",
    "print('precision:   ', precision,'\\n', 'recall:   ', recall)"
   ]
  },
  {
   "cell_type": "code",
   "execution_count": 26,
   "metadata": {},
   "outputs": [],
   "source": [
    "tpr = tp / (tp + fn)\n",
    "fpr = fp / (fp + tn)"
   ]
  },
  {
   "cell_type": "code",
   "execution_count": 27,
   "metadata": {},
   "outputs": [
    {
     "data": {
      "text/plain": [
       "(0.6637023910914801, 0.36755769100629354)"
      ]
     },
     "execution_count": 27,
     "metadata": {},
     "output_type": "execute_result"
    }
   ],
   "source": [
    "tpr, fpr"
   ]
  },
  {
   "cell_type": "markdown",
   "metadata": {},
   "source": [
    "##  Random Forest"
   ]
  },
  {
   "cell_type": "code",
   "execution_count": 30,
   "metadata": {},
   "outputs": [
    {
     "name": "stderr",
     "output_type": "stream",
     "text": [
      "/home/jupyterlab/conda/envs/python/lib/python3.6/site-packages/sklearn/ensemble/forest.py:246: FutureWarning: The default value of n_estimators will change from 10 in version 0.20 to 100 in 0.22.\n",
      "  \"10 in version 0.20 to 100 in 0.22.\", FutureWarning)\n",
      "/home/jupyterlab/conda/envs/python/lib/python3.6/site-packages/sklearn/ensemble/forest.py:246: FutureWarning: The default value of n_estimators will change from 10 in version 0.20 to 100 in 0.22.\n",
      "  \"10 in version 0.20 to 100 in 0.22.\", FutureWarning)\n",
      "/home/jupyterlab/conda/envs/python/lib/python3.6/site-packages/sklearn/ensemble/forest.py:246: FutureWarning: The default value of n_estimators will change from 10 in version 0.20 to 100 in 0.22.\n",
      "  \"10 in version 0.20 to 100 in 0.22.\", FutureWarning)\n"
     ]
    },
    {
     "name": "stdout",
     "output_type": "stream",
     "text": [
      "0.007018186850473285\n",
      "total_time:  0:02:29.737144 0:00:02.495619\n",
      "1    0.919951\n",
      "0    0.080049\n",
      "dtype: float64\n",
      "precision:    0.821686498678979 \n",
      " recall:    0.938510353440821\n"
     ]
    }
   ],
   "source": [
    "start = timeit.timeit()\n",
    "now = dt.datetime.now()\n",
    "rf = RandomForestClassifier(class_weight='balanced', random_state=1)\n",
    "predictions=cross_val_predict(rf, credit_data[features], credit_data[target], cv=3)\n",
    "end = timeit.timeit()\n",
    "later =dt.datetime.now()\n",
    "print(end-start)\n",
    "print('total_time: ',(later - now),(later - now)/60)\n",
    "\n",
    "predictions = pd.Series(predictions)\n",
    "print(predictions.value_counts(normalize = True))\n",
    "tn, fp, fn, tp= confusion_matrix(credit_data[target], predictions).ravel()\n",
    "precision = tp/(tp+fp)\n",
    "recall = tp/(tp+fn)\n",
    "print('precision:   ', precision,'\\n', 'recall:   ', recall)\n"
   ]
  },
  {
   "cell_type": "code",
   "execution_count": 31,
   "metadata": {},
   "outputs": [
    {
     "name": "stderr",
     "output_type": "stream",
     "text": [
      "/home/jupyterlab/conda/envs/python/lib/python3.6/site-packages/sklearn/ensemble/forest.py:246: FutureWarning: The default value of n_estimators will change from 10 in version 0.20 to 100 in 0.22.\n",
      "  \"10 in version 0.20 to 100 in 0.22.\", FutureWarning)\n",
      "/home/jupyterlab/conda/envs/python/lib/python3.6/site-packages/sklearn/ensemble/forest.py:246: FutureWarning: The default value of n_estimators will change from 10 in version 0.20 to 100 in 0.22.\n",
      "  \"10 in version 0.20 to 100 in 0.22.\", FutureWarning)\n",
      "/home/jupyterlab/conda/envs/python/lib/python3.6/site-packages/sklearn/ensemble/forest.py:246: FutureWarning: The default value of n_estimators will change from 10 in version 0.20 to 100 in 0.22.\n",
      "  \"10 in version 0.20 to 100 in 0.22.\", FutureWarning)\n"
     ]
    },
    {
     "name": "stdout",
     "output_type": "stream",
     "text": [
      "0.008108011214062572\n",
      "total_time:  0:02:29.537579 0:00:02.492293\n",
      "1    0.916258\n",
      "0    0.083742\n",
      "dtype: float64\n",
      "precision:    0.822983861117378 \n",
      " recall:    0.9362184889060352\n"
     ]
    }
   ],
   "source": [
    "start = timeit.timeit()\n",
    "now = dt.datetime.now()\n",
    "rf = RandomForestClassifier(class_weight='balanced', random_state=1)\n",
    "predictions=cross_val_predict(rf, credit_data[features], credit_data[target], cv=3)\n",
    "end = timeit.timeit()\n",
    "later =dt.datetime.now()\n",
    "print(end-start)\n",
    "print('total_time: ',(later - now),(later - now)/60)\n",
    "\n",
    "predictions = pd.Series(predictions)\n",
    "print(predictions.value_counts(normalize = True))\n",
    "tn, fp, fn, tp= confusion_matrix(credit_data[target], predictions).ravel()\n",
    "precision = tp/(tp+fp)\n",
    "recall = tp/(tp+fn)\n",
    "print('precision:   ', precision,'\\n', 'recall:   ', recall)\n"
   ]
  },
  {
   "cell_type": "code",
   "execution_count": 33,
   "metadata": {},
   "outputs": [
    {
     "data": {
      "text/plain": [
       "0.16637341814982742"
      ]
     },
     "execution_count": 33,
     "metadata": {},
     "output_type": "execute_result"
    }
   ],
   "source": [
    "tn / (fp + tn)"
   ]
  },
  {
   "cell_type": "code",
   "execution_count": null,
   "metadata": {},
   "outputs": [],
   "source": []
  }
 ],
 "metadata": {
  "kernelspec": {
   "display_name": "Python",
   "language": "python",
   "name": "conda-env-python-py"
  },
  "language_info": {
   "codemirror_mode": {
    "name": "ipython",
    "version": 3
   },
   "file_extension": ".py",
   "mimetype": "text/x-python",
   "name": "python",
   "nbconvert_exporter": "python",
   "pygments_lexer": "ipython3",
   "version": "3.6.10"
  }
 },
 "nbformat": 4,
 "nbformat_minor": 4
}
